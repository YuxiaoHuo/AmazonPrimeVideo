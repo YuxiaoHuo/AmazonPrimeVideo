{
  "nbformat": 4,
  "nbformat_minor": 0,
  "metadata": {
    "colab": {
      "name": "AmazonPrime.ipynb",
      "provenance": []
    },
    "kernelspec": {
      "name": "python3",
      "display_name": "Python 3"
    }
  },
  "cells": [
    {
      "cell_type": "code",
      "metadata": {
        "id": "Uhb9VjA2Ajnm"
      },
      "source": [
        "!pip install -U -q PyDrive\r\n",
        "\r\n",
        "from pydrive.auth import GoogleAuth\r\n",
        "from pydrive.drive import GoogleDrive\r\n",
        "from google.colab import auth\r\n",
        "from oauth2client.client import GoogleCredentials\r\n",
        "from sklearn.model_selection import train_test_split\r\n",
        "import pandas as pd\r\n",
        "\r\n",
        "auth.authenticate_user()\r\n",
        "gauth = GoogleAuth()\r\n",
        "gauth.credentials = GoogleCredentials.get_application_default()\r\n",
        "drive = GoogleDrive(gauth)\r\n",
        "pd.set_option('display.float_format', lambda x: '%.3f' % x)"
      ],
      "execution_count": null,
      "outputs": []
    },
    {
      "cell_type": "code",
      "metadata": {
        "id": "qHWUSzcNA1mv"
      },
      "source": [
        "id = \"118j17YXTIpv3RRt_SkQOsPHYjpSemPI9\"\r\n",
        "file = drive.CreateFile({'id':id}) \r\n",
        "file.GetContentFile('TVdata.txt')"
      ],
      "execution_count": null,
      "outputs": []
    },
    {
      "cell_type": "code",
      "metadata": {
        "id": "uR4Ov_j-B4IR"
      },
      "source": [
        "\r\n",
        "dataset=pd.read_table('TVdata.txt',header=0, sep = ',')"
      ],
      "execution_count": null,
      "outputs": []
    },
    {
      "cell_type": "code",
      "metadata": {
        "colab": {
          "base_uri": "https://localhost:8080/",
          "height": 292
        },
        "id": "WWx831NoDjS9",
        "outputId": "b974f068-d3ae-4214-e61a-c9b26748482a"
      },
      "source": [
        "dataset.head()"
      ],
      "execution_count": null,
      "outputs": [
        {
          "output_type": "execute_result",
          "data": {
            "text/html": [
              "<div>\n",
              "<style scoped>\n",
              "    .dataframe tbody tr th:only-of-type {\n",
              "        vertical-align: middle;\n",
              "    }\n",
              "\n",
              "    .dataframe tbody tr th {\n",
              "        vertical-align: top;\n",
              "    }\n",
              "\n",
              "    .dataframe thead th {\n",
              "        text-align: right;\n",
              "    }\n",
              "</style>\n",
              "<table border=\"1\" class=\"dataframe\">\n",
              "  <thead>\n",
              "    <tr style=\"text-align: right;\">\n",
              "      <th></th>\n",
              "      <th>video_id</th>\n",
              "      <th>cvt_per_day</th>\n",
              "      <th>weighted_categorical_position</th>\n",
              "      <th>weighted_horizontal_poition</th>\n",
              "      <th>import_id</th>\n",
              "      <th>release_year</th>\n",
              "      <th>genres</th>\n",
              "      <th>imdb_votes</th>\n",
              "      <th>budget</th>\n",
              "      <th>boxoffice</th>\n",
              "      <th>imdb_rating</th>\n",
              "      <th>duration_in_mins</th>\n",
              "      <th>metacritic_score</th>\n",
              "      <th>awards</th>\n",
              "      <th>mpaa</th>\n",
              "      <th>star_category</th>\n",
              "    </tr>\n",
              "  </thead>\n",
              "  <tbody>\n",
              "    <tr>\n",
              "      <th>0</th>\n",
              "      <td>385504</td>\n",
              "      <td>307127.606</td>\n",
              "      <td>1</td>\n",
              "      <td>3</td>\n",
              "      <td>lionsgate</td>\n",
              "      <td>2013</td>\n",
              "      <td>Action,Thriller,Drama</td>\n",
              "      <td>69614</td>\n",
              "      <td>15000000</td>\n",
              "      <td>42930462</td>\n",
              "      <td>6.500</td>\n",
              "      <td>112.301</td>\n",
              "      <td>51</td>\n",
              "      <td>other award</td>\n",
              "      <td>PG-13</td>\n",
              "      <td>1.710</td>\n",
              "    </tr>\n",
              "    <tr>\n",
              "      <th>1</th>\n",
              "      <td>300175</td>\n",
              "      <td>270338.426</td>\n",
              "      <td>1</td>\n",
              "      <td>3</td>\n",
              "      <td>lionsgate</td>\n",
              "      <td>2013</td>\n",
              "      <td>Comedy,Crime,Thriller</td>\n",
              "      <td>46705</td>\n",
              "      <td>15000000</td>\n",
              "      <td>3301046</td>\n",
              "      <td>6.500</td>\n",
              "      <td>94.983</td>\n",
              "      <td>41</td>\n",
              "      <td>no award</td>\n",
              "      <td>R</td>\n",
              "      <td>3.250</td>\n",
              "    </tr>\n",
              "    <tr>\n",
              "      <th>2</th>\n",
              "      <td>361899</td>\n",
              "      <td>256165.867</td>\n",
              "      <td>1</td>\n",
              "      <td>3</td>\n",
              "      <td>other</td>\n",
              "      <td>2012</td>\n",
              "      <td>Crime,Drama</td>\n",
              "      <td>197596</td>\n",
              "      <td>26000000</td>\n",
              "      <td>37397291</td>\n",
              "      <td>7.300</td>\n",
              "      <td>115.764</td>\n",
              "      <td>58</td>\n",
              "      <td>other award</td>\n",
              "      <td>R</td>\n",
              "      <td>2.647</td>\n",
              "    </tr>\n",
              "    <tr>\n",
              "      <th>3</th>\n",
              "      <td>308314</td>\n",
              "      <td>196622.721</td>\n",
              "      <td>3</td>\n",
              "      <td>4</td>\n",
              "      <td>lionsgate</td>\n",
              "      <td>2008</td>\n",
              "      <td>Thriller,Drama,War,Documentary,Mystery,Action</td>\n",
              "      <td>356339</td>\n",
              "      <td>15000000</td>\n",
              "      <td>15700000</td>\n",
              "      <td>7.600</td>\n",
              "      <td>130.704</td>\n",
              "      <td>94</td>\n",
              "      <td>Oscar</td>\n",
              "      <td>R</td>\n",
              "      <td>1.667</td>\n",
              "    </tr>\n",
              "    <tr>\n",
              "      <th>4</th>\n",
              "      <td>307201</td>\n",
              "      <td>159841.652</td>\n",
              "      <td>1</td>\n",
              "      <td>3</td>\n",
              "      <td>lionsgate</td>\n",
              "      <td>2013</td>\n",
              "      <td>Crime,Thriller,Mystery,Documentary</td>\n",
              "      <td>46720</td>\n",
              "      <td>27220000</td>\n",
              "      <td>8551228</td>\n",
              "      <td>6.400</td>\n",
              "      <td>105.546</td>\n",
              "      <td>37</td>\n",
              "      <td>other award</td>\n",
              "      <td>R</td>\n",
              "      <td>3.067</td>\n",
              "    </tr>\n",
              "  </tbody>\n",
              "</table>\n",
              "</div>"
            ],
            "text/plain": [
              "   video_id  cvt_per_day  ...   mpaa  star_category\n",
              "0    385504   307127.606  ...  PG-13          1.710\n",
              "1    300175   270338.426  ...      R          3.250\n",
              "2    361899   256165.867  ...      R          2.647\n",
              "3    308314   196622.721  ...      R          1.667\n",
              "4    307201   159841.652  ...      R          3.067\n",
              "\n",
              "[5 rows x 16 columns]"
            ]
          },
          "metadata": {
            "tags": []
          },
          "execution_count": 5
        }
      ]
    },
    {
      "cell_type": "markdown",
      "metadata": {
        "id": "D6e1hrwBXOtD"
      },
      "source": [
        "# 1. Data exploration"
      ]
    },
    {
      "cell_type": "markdown",
      "metadata": {
        "id": "XHu-QuIYXaXx"
      },
      "source": [
        "## 1.1 Exclude erroneous data"
      ]
    },
    {
      "cell_type": "markdown",
      "metadata": {
        "id": "YcGwjh95XzP6"
      },
      "source": [
        "Make sure there is no duplicated video"
      ]
    },
    {
      "cell_type": "code",
      "metadata": {
        "id": "7lIPMWOxpDiB",
        "colab": {
          "base_uri": "https://localhost:8080/"
        },
        "outputId": "b45767b2-1a81-40a4-829c-ced31021652b"
      },
      "source": [
        "if dataset['video_id'].duplicated().sum() == 0:\r\n",
        "  print('no duplicated index')"
      ],
      "execution_count": null,
      "outputs": [
        {
          "output_type": "stream",
          "text": [
            "no duplicated index\n"
          ],
          "name": "stdout"
        }
      ]
    },
    {
      "cell_type": "markdown",
      "metadata": {
        "id": "BbZutgarb3QN"
      },
      "source": [
        "# 1.2 Understand Numercial Features"
      ]
    },
    {
      "cell_type": "markdown",
      "metadata": {
        "id": "bJ79Sm4Ab61w"
      },
      "source": [
        "## 1.2.1 Overview"
      ]
    },
    {
      "cell_type": "code",
      "metadata": {
        "colab": {
          "base_uri": "https://localhost:8080/"
        },
        "id": "sgMO2H3ON--s",
        "outputId": "7faf6465-4af3-42bc-f9de-6e23ef049c7d"
      },
      "source": [
        "dataset.info()"
      ],
      "execution_count": null,
      "outputs": [
        {
          "output_type": "stream",
          "text": [
            "<class 'pandas.core.frame.DataFrame'>\n",
            "RangeIndex: 4226 entries, 0 to 4225\n",
            "Data columns (total 16 columns):\n",
            " #   Column                         Non-Null Count  Dtype  \n",
            "---  ------                         --------------  -----  \n",
            " 0   video_id                       4226 non-null   int64  \n",
            " 1   cvt_per_day                    4226 non-null   float64\n",
            " 2   weighted_categorical_position  4226 non-null   int64  \n",
            " 3   weighted_horizontal_poition    4226 non-null   int64  \n",
            " 4   import_id                      4226 non-null   object \n",
            " 5   release_year                   4226 non-null   int64  \n",
            " 6   genres                         4226 non-null   object \n",
            " 7   imdb_votes                     4226 non-null   int64  \n",
            " 8   budget                         4226 non-null   int64  \n",
            " 9   boxoffice                      4226 non-null   int64  \n",
            " 10  imdb_rating                    4226 non-null   float64\n",
            " 11  duration_in_mins               4226 non-null   float64\n",
            " 12  metacritic_score               4226 non-null   int64  \n",
            " 13  awards                         4226 non-null   object \n",
            " 14  mpaa                           4226 non-null   object \n",
            " 15  star_category                  4226 non-null   float64\n",
            "dtypes: float64(4), int64(8), object(4)\n",
            "memory usage: 528.4+ KB\n"
          ],
          "name": "stdout"
        }
      ]
    },
    {
      "cell_type": "code",
      "metadata": {
        "colab": {
          "base_uri": "https://localhost:8080/"
        },
        "id": "Of0Pdc9wOD-C",
        "outputId": "4a49015a-ccf8-41e1-fcd2-c5a31b623197"
      },
      "source": [
        "dataset.isnull().sum()"
      ],
      "execution_count": null,
      "outputs": [
        {
          "output_type": "execute_result",
          "data": {
            "text/plain": [
              "video_id                         0\n",
              "cvt_per_day                      0\n",
              "weighted_categorical_position    0\n",
              "weighted_horizontal_poition      0\n",
              "import_id                        0\n",
              "release_year                     0\n",
              "genres                           0\n",
              "imdb_votes                       0\n",
              "budget                           0\n",
              "boxoffice                        0\n",
              "imdb_rating                      0\n",
              "duration_in_mins                 0\n",
              "metacritic_score                 0\n",
              "awards                           0\n",
              "mpaa                             0\n",
              "star_category                    0\n",
              "dtype: int64"
            ]
          },
          "metadata": {
            "tags": []
          },
          "execution_count": 8
        }
      ]
    },
    {
      "cell_type": "code",
      "metadata": {
        "colab": {
          "base_uri": "https://localhost:8080/",
          "height": 297
        },
        "id": "yCzi-O4JO4FC",
        "outputId": "23315367-9e54-4d3f-b8b3-507a6befcdc9"
      },
      "source": [
        "dataset[['cvt_per_day', 'weighted_categorical_position', 'weighted_horizontal_poition','imdb_votes', 'budget', 'boxoffice', 'imdb_rating','metacritic_score', 'star_category']].describe()"
      ],
      "execution_count": null,
      "outputs": [
        {
          "output_type": "execute_result",
          "data": {
            "text/html": [
              "<div>\n",
              "<style scoped>\n",
              "    .dataframe tbody tr th:only-of-type {\n",
              "        vertical-align: middle;\n",
              "    }\n",
              "\n",
              "    .dataframe tbody tr th {\n",
              "        vertical-align: top;\n",
              "    }\n",
              "\n",
              "    .dataframe thead th {\n",
              "        text-align: right;\n",
              "    }\n",
              "</style>\n",
              "<table border=\"1\" class=\"dataframe\">\n",
              "  <thead>\n",
              "    <tr style=\"text-align: right;\">\n",
              "      <th></th>\n",
              "      <th>cvt_per_day</th>\n",
              "      <th>weighted_categorical_position</th>\n",
              "      <th>weighted_horizontal_poition</th>\n",
              "      <th>imdb_votes</th>\n",
              "      <th>budget</th>\n",
              "      <th>boxoffice</th>\n",
              "      <th>imdb_rating</th>\n",
              "      <th>metacritic_score</th>\n",
              "      <th>star_category</th>\n",
              "    </tr>\n",
              "  </thead>\n",
              "  <tbody>\n",
              "    <tr>\n",
              "      <th>count</th>\n",
              "      <td>4226.000</td>\n",
              "      <td>4226.000</td>\n",
              "      <td>4226.000</td>\n",
              "      <td>4226.000</td>\n",
              "      <td>4226.000</td>\n",
              "      <td>4226.000</td>\n",
              "      <td>4226.000</td>\n",
              "      <td>4226.000</td>\n",
              "      <td>4226.000</td>\n",
              "    </tr>\n",
              "    <tr>\n",
              "      <th>mean</th>\n",
              "      <td>4218.630</td>\n",
              "      <td>7.783</td>\n",
              "      <td>28.104</td>\n",
              "      <td>6462.924</td>\n",
              "      <td>2150743.439</td>\n",
              "      <td>2536338.472</td>\n",
              "      <td>5.257</td>\n",
              "      <td>15.974</td>\n",
              "      <td>0.955</td>\n",
              "    </tr>\n",
              "    <tr>\n",
              "      <th>std</th>\n",
              "      <td>13036.080</td>\n",
              "      <td>6.134</td>\n",
              "      <td>11.864</td>\n",
              "      <td>31596.007</td>\n",
              "      <td>7176604.483</td>\n",
              "      <td>8243516.266</td>\n",
              "      <td>2.123</td>\n",
              "      <td>26.205</td>\n",
              "      <td>0.955</td>\n",
              "    </tr>\n",
              "    <tr>\n",
              "      <th>min</th>\n",
              "      <td>2.188</td>\n",
              "      <td>1.000</td>\n",
              "      <td>1.000</td>\n",
              "      <td>0.000</td>\n",
              "      <td>0.000</td>\n",
              "      <td>0.000</td>\n",
              "      <td>0.000</td>\n",
              "      <td>0.000</td>\n",
              "      <td>0.000</td>\n",
              "    </tr>\n",
              "    <tr>\n",
              "      <th>25%</th>\n",
              "      <td>351.169</td>\n",
              "      <td>4.000</td>\n",
              "      <td>20.000</td>\n",
              "      <td>81.000</td>\n",
              "      <td>0.000</td>\n",
              "      <td>0.000</td>\n",
              "      <td>4.300</td>\n",
              "      <td>0.000</td>\n",
              "      <td>0.000</td>\n",
              "    </tr>\n",
              "    <tr>\n",
              "      <th>50%</th>\n",
              "      <td>1193.500</td>\n",
              "      <td>6.000</td>\n",
              "      <td>28.000</td>\n",
              "      <td>535.000</td>\n",
              "      <td>0.000</td>\n",
              "      <td>0.000</td>\n",
              "      <td>5.800</td>\n",
              "      <td>0.000</td>\n",
              "      <td>1.000</td>\n",
              "    </tr>\n",
              "    <tr>\n",
              "      <th>75%</th>\n",
              "      <td>3356.789</td>\n",
              "      <td>9.000</td>\n",
              "      <td>36.000</td>\n",
              "      <td>3053.000</td>\n",
              "      <td>1500000.000</td>\n",
              "      <td>0.000</td>\n",
              "      <td>6.800</td>\n",
              "      <td>41.000</td>\n",
              "      <td>1.667</td>\n",
              "    </tr>\n",
              "    <tr>\n",
              "      <th>max</th>\n",
              "      <td>307127.606</td>\n",
              "      <td>41.000</td>\n",
              "      <td>70.000</td>\n",
              "      <td>948630.000</td>\n",
              "      <td>107000000.000</td>\n",
              "      <td>184208848.000</td>\n",
              "      <td>10.000</td>\n",
              "      <td>100.000</td>\n",
              "      <td>4.000</td>\n",
              "    </tr>\n",
              "  </tbody>\n",
              "</table>\n",
              "</div>"
            ],
            "text/plain": [
              "       cvt_per_day  ...  star_category\n",
              "count     4226.000  ...       4226.000\n",
              "mean      4218.630  ...          0.955\n",
              "std      13036.080  ...          0.955\n",
              "min          2.188  ...          0.000\n",
              "25%        351.169  ...          0.000\n",
              "50%       1193.500  ...          1.000\n",
              "75%       3356.789  ...          1.667\n",
              "max     307127.606  ...          4.000\n",
              "\n",
              "[8 rows x 9 columns]"
            ]
          },
          "metadata": {
            "tags": []
          },
          "execution_count": 9
        }
      ]
    },
    {
      "cell_type": "markdown",
      "metadata": {
        "id": "dWKBNMHxcTw8"
      },
      "source": [
        "## 1.2.2 cvt_per_day feature"
      ]
    },
    {
      "cell_type": "code",
      "metadata": {
        "id": "c7O4TznmPN9G"
      },
      "source": [
        "import matplotlib.pyplot as plt\r\n",
        "import seaborn as sns\r\n",
        "import numpy as np"
      ],
      "execution_count": null,
      "outputs": []
    },
    {
      "cell_type": "code",
      "metadata": {
        "colab": {
          "base_uri": "https://localhost:8080/",
          "height": 297
        },
        "id": "wk19B1Amdxu0",
        "outputId": "25966e0c-4f8d-4876-cbc3-a16e6ecf5725"
      },
      "source": [
        "sns.histplot(dataset['cvt_per_day'],stat = 'density', bins = range(0,15000, 30))\r\n"
      ],
      "execution_count": null,
      "outputs": [
        {
          "output_type": "execute_result",
          "data": {
            "text/plain": [
              "<matplotlib.axes._subplots.AxesSubplot at 0x7fae44ec6390>"
            ]
          },
          "metadata": {
            "tags": []
          },
          "execution_count": 11
        },
        {
          "output_type": "display_data",
          "data": {
            "image/png": "[encoded data removed]",
            "text/plain": [
              "<Figure size 432x288 with 1 Axes>"
            ]
          },
          "metadata": {
            "tags": [],
            "needs_background": "light"
          }
        }
      ]
    },
    {
      "cell_type": "markdown",
      "metadata": {
        "id": "NSEtJPNadIjg"
      },
      "source": [
        "## 1.2.3 Correlation among numerical features and cvt_per_day"
      ]
    },
    {
      "cell_type": "code",
      "metadata": {
        "colab": {
          "base_uri": "https://localhost:8080/",
          "height": 352
        },
        "id": "eBf9u1QtPXW8",
        "outputId": "84822b8a-182f-4b43-e28a-9205fd0792fe"
      },
      "source": [
        "sns.scatterplot('weighted_categorical_position', 'cvt_per_day', data = dataset)"
      ],
      "execution_count": null,
      "outputs": [
        {
          "output_type": "stream",
          "text": [
            "/usr/local/lib/python3.6/dist-packages/seaborn/_decorators.py:43: FutureWarning: Pass the following variables as keyword args: x, y. From version 0.12, the only valid positional argument will be `data`, and passing other arguments without an explicit keyword will result in an error or misinterpretation.\n",
            "  FutureWarning\n"
          ],
          "name": "stderr"
        },
        {
          "output_type": "execute_result",
          "data": {
            "text/plain": [
              "<matplotlib.axes._subplots.AxesSubplot at 0x7fae44c00b38>"
            ]
          },
          "metadata": {
            "tags": []
          },
          "execution_count": 12
        },
        {
          "output_type": "display_data",
          "data": {
            "image/png": "[encoded data removed]",
            "text/plain": [
              "<Figure size 432x288 with 1 Axes>"
            ]
          },
          "metadata": {
            "tags": [],
            "needs_background": "light"
          }
        }
      ]
    },
    {
      "cell_type": "code",
      "metadata": {
        "colab": {
          "base_uri": "https://localhost:8080/",
          "height": 623
        },
        "id": "msqLG9GdTHX1",
        "outputId": "6dbe7b5b-5d80-490f-ed71-8dae70970983"
      },
      "source": [
        "import warnings\r\n",
        "warnings.filterwarnings('ignore')\r\n",
        "_,axss = plt.subplots(3,3, figsize=[20,10])\r\n",
        "sns.scatterplot('weighted_categorical_position', 'cvt_per_day', data = dataset, ax=axss[0][0])\r\n",
        "sns.scatterplot('weighted_horizontal_poition', 'cvt_per_day', data = dataset, ax=axss[0][1])\r\n",
        "sns.scatterplot('release_year', 'cvt_per_day', data = dataset, ax=axss[0][2])\r\n",
        "sns.scatterplot('imdb_votes', 'cvt_per_day', data = dataset, ax=axss[1][0])\r\n",
        "sns.scatterplot('budget', 'cvt_per_day', data = dataset, ax=axss[1][1])\r\n",
        "sns.scatterplot('star_category', 'cvt_per_day', data = dataset, ax=axss[1][2])\r\n",
        "sns.scatterplot('boxoffice', 'cvt_per_day', data = dataset, ax=axss[2][0])\r\n",
        "sns.scatterplot('imdb_rating', 'cvt_per_day', data = dataset, ax=axss[2][1])\r\n",
        "sns.scatterplot('metacritic_score', 'cvt_per_day', data = dataset, ax=axss[2][2])"
      ],
      "execution_count": null,
      "outputs": [
        {
          "output_type": "execute_result",
          "data": {
            "text/plain": [
              "<matplotlib.axes._subplots.AxesSubplot at 0x7fae437a04e0>"
            ]
          },
          "metadata": {
            "tags": []
          },
          "execution_count": 13
        },
        {
          "output_type": "display_data",
          "data": {
            "image/png": "[encoded data removed]",
            "text/plain": [
              "<Figure size 1440x720 with 9 Axes>"
            ]
          },
          "metadata": {
            "tags": [],
            "needs_background": "light"
          }
        }
      ]
    },
    {
      "cell_type": "markdown",
      "metadata": {
        "id": "n4HDM0GZjBMJ"
      },
      "source": [
        "# 1.2.4 Correlation among numerical features"
      ]
    },
    {
      "cell_type": "code",
      "metadata": {
        "colab": {
          "base_uri": "https://localhost:8080/",
          "height": 428
        },
        "id": "pAMlutHJi7A5",
        "outputId": "9247bb2c-0f5a-4f47-bd5d-e60ee917fd4a"
      },
      "source": [
        "corr = dataset[['cvt_per_day','weighted_categorical_position','weighted_horizontal_poition'\r\n",
        "               ,'release_year', 'imdb_votes', 'budget', 'boxoffice' ,'imdb_rating', \r\n",
        "               'duration_in_mins', 'metacritic_score', 'star_category']].corr()\r\n",
        "sns.heatmap(corr, cmap = \"YlGnBu\")"
      ],
      "execution_count": null,
      "outputs": [
        {
          "output_type": "execute_result",
          "data": {
            "text/plain": [
              "<matplotlib.axes._subplots.AxesSubplot at 0x7fae4575b860>"
            ]
          },
          "metadata": {
            "tags": []
          },
          "execution_count": 14
        },
        {
          "output_type": "display_data",
          "data": {
            "image/png": "[encoded data removed]",
            "text/plain": [
              "<Figure size 432x288 with 2 Axes>"
            ]
          },
          "metadata": {
            "tags": [],
            "needs_background": "light"
          }
        }
      ]
    },
    {
      "cell_type": "code",
      "metadata": {
        "colab": {
          "base_uri": "https://localhost:8080/",
          "height": 410
        },
        "id": "Mi6pNNtSkK97",
        "outputId": "5088c193-62b3-4d7a-c6e4-49ec54930f9c"
      },
      "source": [
        "corr"
      ],
      "execution_count": null,
      "outputs": [
        {
          "output_type": "execute_result",
          "data": {
            "text/html": [
              "<div>\n",
              "<style scoped>\n",
              "    .dataframe tbody tr th:only-of-type {\n",
              "        vertical-align: middle;\n",
              "    }\n",
              "\n",
              "    .dataframe tbody tr th {\n",
              "        vertical-align: top;\n",
              "    }\n",
              "\n",
              "    .dataframe thead th {\n",
              "        text-align: right;\n",
              "    }\n",
              "</style>\n",
              "<table border=\"1\" class=\"dataframe\">\n",
              "  <thead>\n",
              "    <tr style=\"text-align: right;\">\n",
              "      <th></th>\n",
              "      <th>cvt_per_day</th>\n",
              "      <th>weighted_categorical_position</th>\n",
              "      <th>weighted_horizontal_poition</th>\n",
              "      <th>release_year</th>\n",
              "      <th>imdb_votes</th>\n",
              "      <th>budget</th>\n",
              "      <th>boxoffice</th>\n",
              "      <th>imdb_rating</th>\n",
              "      <th>duration_in_mins</th>\n",
              "      <th>metacritic_score</th>\n",
              "      <th>star_category</th>\n",
              "    </tr>\n",
              "  </thead>\n",
              "  <tbody>\n",
              "    <tr>\n",
              "      <th>cvt_per_day</th>\n",
              "      <td>1.000</td>\n",
              "      <td>-0.148</td>\n",
              "      <td>-0.302</td>\n",
              "      <td>0.046</td>\n",
              "      <td>0.298</td>\n",
              "      <td>0.316</td>\n",
              "      <td>0.312</td>\n",
              "      <td>0.059</td>\n",
              "      <td>0.152</td>\n",
              "      <td>0.249</td>\n",
              "      <td>0.247</td>\n",
              "    </tr>\n",
              "    <tr>\n",
              "      <th>weighted_categorical_position</th>\n",
              "      <td>-0.148</td>\n",
              "      <td>1.000</td>\n",
              "      <td>-0.084</td>\n",
              "      <td>-0.069</td>\n",
              "      <td>-0.064</td>\n",
              "      <td>-0.090</td>\n",
              "      <td>-0.074</td>\n",
              "      <td>-0.116</td>\n",
              "      <td>-0.174</td>\n",
              "      <td>-0.044</td>\n",
              "      <td>-0.123</td>\n",
              "    </tr>\n",
              "    <tr>\n",
              "      <th>weighted_horizontal_poition</th>\n",
              "      <td>-0.302</td>\n",
              "      <td>-0.084</td>\n",
              "      <td>1.000</td>\n",
              "      <td>0.027</td>\n",
              "      <td>-0.221</td>\n",
              "      <td>-0.211</td>\n",
              "      <td>-0.245</td>\n",
              "      <td>-0.162</td>\n",
              "      <td>-0.102</td>\n",
              "      <td>-0.255</td>\n",
              "      <td>-0.168</td>\n",
              "    </tr>\n",
              "    <tr>\n",
              "      <th>release_year</th>\n",
              "      <td>0.046</td>\n",
              "      <td>-0.069</td>\n",
              "      <td>0.027</td>\n",
              "      <td>1.000</td>\n",
              "      <td>-0.083</td>\n",
              "      <td>-0.040</td>\n",
              "      <td>-0.128</td>\n",
              "      <td>-0.199</td>\n",
              "      <td>-0.097</td>\n",
              "      <td>-0.167</td>\n",
              "      <td>-0.198</td>\n",
              "    </tr>\n",
              "    <tr>\n",
              "      <th>imdb_votes</th>\n",
              "      <td>0.298</td>\n",
              "      <td>-0.064</td>\n",
              "      <td>-0.221</td>\n",
              "      <td>-0.083</td>\n",
              "      <td>1.000</td>\n",
              "      <td>0.273</td>\n",
              "      <td>0.531</td>\n",
              "      <td>0.163</td>\n",
              "      <td>0.156</td>\n",
              "      <td>0.322</td>\n",
              "      <td>0.225</td>\n",
              "    </tr>\n",
              "    <tr>\n",
              "      <th>budget</th>\n",
              "      <td>0.316</td>\n",
              "      <td>-0.090</td>\n",
              "      <td>-0.211</td>\n",
              "      <td>-0.040</td>\n",
              "      <td>0.273</td>\n",
              "      <td>1.000</td>\n",
              "      <td>0.505</td>\n",
              "      <td>0.106</td>\n",
              "      <td>0.251</td>\n",
              "      <td>0.315</td>\n",
              "      <td>0.322</td>\n",
              "    </tr>\n",
              "    <tr>\n",
              "      <th>boxoffice</th>\n",
              "      <td>0.312</td>\n",
              "      <td>-0.074</td>\n",
              "      <td>-0.245</td>\n",
              "      <td>-0.128</td>\n",
              "      <td>0.531</td>\n",
              "      <td>0.505</td>\n",
              "      <td>1.000</td>\n",
              "      <td>0.164</td>\n",
              "      <td>0.226</td>\n",
              "      <td>0.465</td>\n",
              "      <td>0.322</td>\n",
              "    </tr>\n",
              "    <tr>\n",
              "      <th>imdb_rating</th>\n",
              "      <td>0.059</td>\n",
              "      <td>-0.116</td>\n",
              "      <td>-0.162</td>\n",
              "      <td>-0.199</td>\n",
              "      <td>0.163</td>\n",
              "      <td>0.106</td>\n",
              "      <td>0.164</td>\n",
              "      <td>1.000</td>\n",
              "      <td>0.344</td>\n",
              "      <td>0.347</td>\n",
              "      <td>0.192</td>\n",
              "    </tr>\n",
              "    <tr>\n",
              "      <th>duration_in_mins</th>\n",
              "      <td>0.152</td>\n",
              "      <td>-0.174</td>\n",
              "      <td>-0.102</td>\n",
              "      <td>-0.097</td>\n",
              "      <td>0.156</td>\n",
              "      <td>0.251</td>\n",
              "      <td>0.226</td>\n",
              "      <td>0.344</td>\n",
              "      <td>1.000</td>\n",
              "      <td>0.327</td>\n",
              "      <td>0.309</td>\n",
              "    </tr>\n",
              "    <tr>\n",
              "      <th>metacritic_score</th>\n",
              "      <td>0.249</td>\n",
              "      <td>-0.044</td>\n",
              "      <td>-0.255</td>\n",
              "      <td>-0.167</td>\n",
              "      <td>0.322</td>\n",
              "      <td>0.315</td>\n",
              "      <td>0.465</td>\n",
              "      <td>0.347</td>\n",
              "      <td>0.327</td>\n",
              "      <td>1.000</td>\n",
              "      <td>0.452</td>\n",
              "    </tr>\n",
              "    <tr>\n",
              "      <th>star_category</th>\n",
              "      <td>0.247</td>\n",
              "      <td>-0.123</td>\n",
              "      <td>-0.168</td>\n",
              "      <td>-0.198</td>\n",
              "      <td>0.225</td>\n",
              "      <td>0.322</td>\n",
              "      <td>0.322</td>\n",
              "      <td>0.192</td>\n",
              "      <td>0.309</td>\n",
              "      <td>0.452</td>\n",
              "      <td>1.000</td>\n",
              "    </tr>\n",
              "  </tbody>\n",
              "</table>\n",
              "</div>"
            ],
            "text/plain": [
              "                               cvt_per_day  ...  star_category\n",
              "cvt_per_day                          1.000  ...          0.247\n",
              "weighted_categorical_position       -0.148  ...         -0.123\n",
              "weighted_horizontal_poition         -0.302  ...         -0.168\n",
              "release_year                         0.046  ...         -0.198\n",
              "imdb_votes                           0.298  ...          0.225\n",
              "budget                               0.316  ...          0.322\n",
              "boxoffice                            0.312  ...          0.322\n",
              "imdb_rating                          0.059  ...          0.192\n",
              "duration_in_mins                     0.152  ...          0.309\n",
              "metacritic_score                     0.249  ...          0.452\n",
              "star_category                        0.247  ...          1.000\n",
              "\n",
              "[11 rows x 11 columns]"
            ]
          },
          "metadata": {
            "tags": []
          },
          "execution_count": 15
        }
      ]
    },
    {
      "cell_type": "markdown",
      "metadata": {
        "id": "cIwzPy9PlSnP"
      },
      "source": [
        "# 1.3 Understand categorical features "
      ]
    },
    {
      "cell_type": "markdown",
      "metadata": {
        "id": "K17EW6m0lqEf"
      },
      "source": [
        "1.3.1 Distribution of standard categorical features"
      ]
    },
    {
      "cell_type": "code",
      "metadata": {
        "colab": {
          "base_uri": "https://localhost:8080/",
          "height": 1000
        },
        "id": "1H13YWfIZAuh",
        "outputId": "94b7a69a-949e-4e4b-da7b-0d41207c0d81"
      },
      "source": [
        "# 'import_id', 'genres'\r\n",
        "# 'awards', 'mpaa'\r\n",
        "sns.stripplot(x='import_id', y='cvt_per_day', data=dataset,jitter=True)\r\n",
        "plt.show()\r\n",
        "print(dataset['import_id'].value_counts())\r\n",
        "\r\n",
        "sns.stripplot(x='mpaa', y='cvt_per_day', data=dataset,jitter=True)\r\n",
        "plt.show()\r\n",
        "print(dataset['mpaa'].value_counts())\r\n",
        "\r\n",
        "sns.stripplot(x='awards', y='cvt_per_day', data=dataset, jitter=True)\r\n",
        "plt.show()\r\n",
        "print(dataset['awards'].value_counts())"
      ],
      "execution_count": null,
      "outputs": [
        {
          "output_type": "display_data",
          "data": {
            "image/png": "[encoded data removed]",
            "text/plain": [
              "<Figure size 432x288 with 1 Axes>"
            ]
          },
          "metadata": {
            "tags": [],
            "needs_background": "light"
          }
        },
        {
          "output_type": "stream",
          "text": [
            "other        2963\n",
            "lionsgate     677\n",
            "mgm           445\n",
            "paramount     141\n",
            "Name: import_id, dtype: int64\n"
          ],
          "name": "stdout"
        },
        {
          "output_type": "display_data",
          "data": {
            "image/png": "[encoded data removed]",
            "text/plain": [
              "<Figure size 432x288 with 1 Axes>"
            ]
          },
          "metadata": {
            "tags": [],
            "needs_background": "light"
          }
        },
        {
          "output_type": "stream",
          "text": [
            "NotRated    2158\n",
            "R           1158\n",
            "PG-13        426\n",
            "PG           353\n",
            "G            125\n",
            "NC-17          6\n",
            "Name: mpaa, dtype: int64\n"
          ],
          "name": "stdout"
        },
        {
          "output_type": "display_data",
          "data": {
            "image/png": "[encoded data removed]",
            "text/plain": [
              "<Figure size 432x288 with 1 Axes>"
            ]
          },
          "metadata": {
            "tags": [],
            "needs_background": "light"
          }
        },
        {
          "output_type": "stream",
          "text": [
            "no award        2569\n",
            "other award     1453\n",
            "Oscar            141\n",
            "Golden Globe      44\n",
            "BAFTA             19\n",
            "Name: awards, dtype: int64\n"
          ],
          "name": "stdout"
        }
      ]
    },
    {
      "cell_type": "markdown",
      "metadata": {
        "id": "m9BucBNSp3hn"
      },
      "source": [
        "## 1.3.2 Distribution of splited genres"
      ]
    },
    {
      "cell_type": "markdown",
      "metadata": {
        "id": "4cLekg8FqMAq"
      },
      "source": [
        "Since some videos belong to more than 1 genre, I will split the genre of each video \r\n",
        "drop the previous categorical features, add new dummy variables "
      ]
    },
    {
      "cell_type": "code",
      "metadata": {
        "id": "zR4v0cYTZRDo"
      },
      "source": [
        "# Convert 3 Categorical variables into dummy variables\r\n",
        "d_import_id = pd.get_dummies(dataset['import_id']).astype(np.int64)\r\n",
        "d_mpaa = pd.get_dummies(dataset['mpaa']).astype(np.int64)\r\n",
        "d_awards = pd.get_dummies(dataset['awards']).astype(np.int64)"
      ],
      "execution_count": null,
      "outputs": []
    },
    {
      "cell_type": "code",
      "metadata": {
        "id": "yhHWTMymk0KN"
      },
      "source": [
        "# Convert 'genres' into dummy variables\r\n",
        "d_genres=dataset['genres'].str.get_dummies(sep=',').astype(np.int64)\r\n",
        "d_genres['Misc_genres']=d_genres['Anime']|d_genres['Reality']|d_genres['Lifestyle']|d_genres['Adult']|d_genres['LGBT']|d_genres['Holiday']\r\n",
        "d_genres.drop(['Anime', 'Reality','Lifestyle', 'Adult','LGBT','Holiday'], inplace=True, axis=1)"
      ],
      "execution_count": null,
      "outputs": []
    },
    {
      "cell_type": "markdown",
      "metadata": {
        "id": "t8BZbdQpGVBM"
      },
      "source": [
        "# 1.3.3 Distribution of release_year"
      ]
    },
    {
      "cell_type": "code",
      "metadata": {
        "colab": {
          "base_uri": "https://localhost:8080/",
          "height": 296
        },
        "id": "M8zMNBKvHwO6",
        "outputId": "4fbba220-fb63-4c7f-d83f-563cb21a8e36"
      },
      "source": [
        "plt.hist(dataset['release_year'].values, bins = range(1910, 2017, 1), alpha = 0.5, color='b', label = 'release_year')\r\n",
        "plt.legend(loc ='upper left')\r\n",
        "plt.title('Historgrams of release_year before data processing')\r\n",
        "plt.xlabel('release_year')\r\n",
        "plt.ylabel('Count')\r\n",
        "plt.show()"
      ],
      "execution_count": null,
      "outputs": [
        {
          "output_type": "display_data",
          "data": {
            "image/png": "[encoded data removed]",
            "text/plain": [
              "<Figure size 432x288 with 1 Axes>"
            ]
          },
          "metadata": {
            "tags": [],
            "needs_background": "light"
          }
        }
      ]
    },
    {
      "cell_type": "code",
      "metadata": {
        "colab": {
          "base_uri": "https://localhost:8080/"
        },
        "id": "zuei73SzJKC6",
        "outputId": "4319983e-c908-4104-fe08-478745adc0b1"
      },
      "source": [
        "dataset['release_year'].quantile([0.1,0.2,0.3,0.4,0.5,0.6,0.7,0.8,0.9])"
      ],
      "execution_count": null,
      "outputs": [
        {
          "output_type": "execute_result",
          "data": {
            "text/plain": [
              "0.100   1974.000\n",
              "0.200   1991.000\n",
              "0.300   2001.000\n",
              "0.400   2006.000\n",
              "0.500   2008.000\n",
              "0.600   2010.000\n",
              "0.700   2012.000\n",
              "0.800   2013.000\n",
              "0.900   2014.000\n",
              "Name: release_year, dtype: float64"
            ]
          },
          "metadata": {
            "tags": []
          },
          "execution_count": 20
        }
      ]
    },
    {
      "cell_type": "code",
      "metadata": {
        "id": "fXgnABGRJmTs"
      },
      "source": [
        "# bin release_year and convert into dummies\r\n",
        "bin_year = [1916, 1974, 1991, 2001, 2006, 2008, 2010, 2012, 2013, 2014, 2017]\r\n",
        "year_range = ['1916-1974', '1974-1991', '1991-2001', '2001-2006','2006-2008','2008-2010','2010-2012','2012-2013',\r\n",
        "              '2013-2014','2014-2017']\r\n",
        "year_bin = pd.cut(dataset['release_year'], bin_year, labels=year_range)\r\n",
        "d_year = pd.get_dummies(year_bin).astype(np.int64)"
      ],
      "execution_count": null,
      "outputs": []
    },
    {
      "cell_type": "code",
      "metadata": {
        "colab": {
          "base_uri": "https://localhost:8080/",
          "height": 241
        },
        "id": "WrN69swQ5mGU",
        "outputId": "92f39133-2d44-4c56-9d28-8fb96400ab1d"
      },
      "source": [
        "temp_dataset = dataset.drop(['import_id', 'mpaa','awards','genres', 'release_year'],axis =1)\r\n",
        "newdataset = pd.concat([temp_dataset, d_import_id, d_mpaa, d_awards, d_genres, d_year], axis=1)\r\n",
        "newdataset.head()"
      ],
      "execution_count": null,
      "outputs": [
        {
          "output_type": "execute_result",
          "data": {
            "text/html": [
              "<div>\n",
              "<style scoped>\n",
              "    .dataframe tbody tr th:only-of-type {\n",
              "        vertical-align: middle;\n",
              "    }\n",
              "\n",
              "    .dataframe tbody tr th {\n",
              "        vertical-align: top;\n",
              "    }\n",
              "\n",
              "    .dataframe thead th {\n",
              "        text-align: right;\n",
              "    }\n",
              "</style>\n",
              "<table border=\"1\" class=\"dataframe\">\n",
              "  <thead>\n",
              "    <tr style=\"text-align: right;\">\n",
              "      <th></th>\n",
              "      <th>video_id</th>\n",
              "      <th>cvt_per_day</th>\n",
              "      <th>weighted_categorical_position</th>\n",
              "      <th>weighted_horizontal_poition</th>\n",
              "      <th>imdb_votes</th>\n",
              "      <th>budget</th>\n",
              "      <th>boxoffice</th>\n",
              "      <th>imdb_rating</th>\n",
              "      <th>duration_in_mins</th>\n",
              "      <th>metacritic_score</th>\n",
              "      <th>star_category</th>\n",
              "      <th>lionsgate</th>\n",
              "      <th>mgm</th>\n",
              "      <th>other</th>\n",
              "      <th>paramount</th>\n",
              "      <th>G</th>\n",
              "      <th>NC-17</th>\n",
              "      <th>NotRated</th>\n",
              "      <th>PG</th>\n",
              "      <th>PG-13</th>\n",
              "      <th>R</th>\n",
              "      <th>BAFTA</th>\n",
              "      <th>Golden Globe</th>\n",
              "      <th>Oscar</th>\n",
              "      <th>no award</th>\n",
              "      <th>other award</th>\n",
              "      <th>Action</th>\n",
              "      <th>Adventure</th>\n",
              "      <th>Animation</th>\n",
              "      <th>Comedy</th>\n",
              "      <th>Crime</th>\n",
              "      <th>Documentary</th>\n",
              "      <th>Drama</th>\n",
              "      <th>Fantasy</th>\n",
              "      <th>Foreign/International</th>\n",
              "      <th>Horror</th>\n",
              "      <th>Independent</th>\n",
              "      <th>Kids &amp; Family</th>\n",
              "      <th>Music</th>\n",
              "      <th>Musicals</th>\n",
              "      <th>Mystery</th>\n",
              "      <th>Romance</th>\n",
              "      <th>Sci-Fi</th>\n",
              "      <th>Sport</th>\n",
              "      <th>Thriller</th>\n",
              "      <th>War</th>\n",
              "      <th>Western</th>\n",
              "      <th>Misc_genres</th>\n",
              "      <th>1916-1974</th>\n",
              "      <th>1974-1991</th>\n",
              "      <th>1991-2001</th>\n",
              "      <th>2001-2006</th>\n",
              "      <th>2006-2008</th>\n",
              "      <th>2008-2010</th>\n",
              "      <th>2010-2012</th>\n",
              "      <th>2012-2013</th>\n",
              "      <th>2013-2014</th>\n",
              "      <th>2014-2017</th>\n",
              "    </tr>\n",
              "  </thead>\n",
              "  <tbody>\n",
              "    <tr>\n",
              "      <th>0</th>\n",
              "      <td>385504</td>\n",
              "      <td>307127.606</td>\n",
              "      <td>1</td>\n",
              "      <td>3</td>\n",
              "      <td>69614</td>\n",
              "      <td>15000000</td>\n",
              "      <td>42930462</td>\n",
              "      <td>6.500</td>\n",
              "      <td>112.301</td>\n",
              "      <td>51</td>\n",
              "      <td>1.710</td>\n",
              "      <td>1</td>\n",
              "      <td>0</td>\n",
              "      <td>0</td>\n",
              "      <td>0</td>\n",
              "      <td>0</td>\n",
              "      <td>0</td>\n",
              "      <td>0</td>\n",
              "      <td>0</td>\n",
              "      <td>1</td>\n",
              "      <td>0</td>\n",
              "      <td>0</td>\n",
              "      <td>0</td>\n",
              "      <td>0</td>\n",
              "      <td>0</td>\n",
              "      <td>1</td>\n",
              "      <td>1</td>\n",
              "      <td>0</td>\n",
              "      <td>0</td>\n",
              "      <td>0</td>\n",
              "      <td>0</td>\n",
              "      <td>0</td>\n",
              "      <td>1</td>\n",
              "      <td>0</td>\n",
              "      <td>0</td>\n",
              "      <td>0</td>\n",
              "      <td>0</td>\n",
              "      <td>0</td>\n",
              "      <td>0</td>\n",
              "      <td>0</td>\n",
              "      <td>0</td>\n",
              "      <td>0</td>\n",
              "      <td>0</td>\n",
              "      <td>0</td>\n",
              "      <td>1</td>\n",
              "      <td>0</td>\n",
              "      <td>0</td>\n",
              "      <td>0</td>\n",
              "      <td>0</td>\n",
              "      <td>0</td>\n",
              "      <td>0</td>\n",
              "      <td>0</td>\n",
              "      <td>0</td>\n",
              "      <td>0</td>\n",
              "      <td>0</td>\n",
              "      <td>1</td>\n",
              "      <td>0</td>\n",
              "      <td>0</td>\n",
              "    </tr>\n",
              "    <tr>\n",
              "      <th>1</th>\n",
              "      <td>300175</td>\n",
              "      <td>270338.426</td>\n",
              "      <td>1</td>\n",
              "      <td>3</td>\n",
              "      <td>46705</td>\n",
              "      <td>15000000</td>\n",
              "      <td>3301046</td>\n",
              "      <td>6.500</td>\n",
              "      <td>94.983</td>\n",
              "      <td>41</td>\n",
              "      <td>3.250</td>\n",
              "      <td>1</td>\n",
              "      <td>0</td>\n",
              "      <td>0</td>\n",
              "      <td>0</td>\n",
              "      <td>0</td>\n",
              "      <td>0</td>\n",
              "      <td>0</td>\n",
              "      <td>0</td>\n",
              "      <td>0</td>\n",
              "      <td>1</td>\n",
              "      <td>0</td>\n",
              "      <td>0</td>\n",
              "      <td>0</td>\n",
              "      <td>1</td>\n",
              "      <td>0</td>\n",
              "      <td>0</td>\n",
              "      <td>0</td>\n",
              "      <td>0</td>\n",
              "      <td>1</td>\n",
              "      <td>1</td>\n",
              "      <td>0</td>\n",
              "      <td>0</td>\n",
              "      <td>0</td>\n",
              "      <td>0</td>\n",
              "      <td>0</td>\n",
              "      <td>0</td>\n",
              "      <td>0</td>\n",
              "      <td>0</td>\n",
              "      <td>0</td>\n",
              "      <td>0</td>\n",
              "      <td>0</td>\n",
              "      <td>0</td>\n",
              "      <td>0</td>\n",
              "      <td>1</td>\n",
              "      <td>0</td>\n",
              "      <td>0</td>\n",
              "      <td>0</td>\n",
              "      <td>0</td>\n",
              "      <td>0</td>\n",
              "      <td>0</td>\n",
              "      <td>0</td>\n",
              "      <td>0</td>\n",
              "      <td>0</td>\n",
              "      <td>0</td>\n",
              "      <td>1</td>\n",
              "      <td>0</td>\n",
              "      <td>0</td>\n",
              "    </tr>\n",
              "    <tr>\n",
              "      <th>2</th>\n",
              "      <td>361899</td>\n",
              "      <td>256165.867</td>\n",
              "      <td>1</td>\n",
              "      <td>3</td>\n",
              "      <td>197596</td>\n",
              "      <td>26000000</td>\n",
              "      <td>37397291</td>\n",
              "      <td>7.300</td>\n",
              "      <td>115.764</td>\n",
              "      <td>58</td>\n",
              "      <td>2.647</td>\n",
              "      <td>0</td>\n",
              "      <td>0</td>\n",
              "      <td>1</td>\n",
              "      <td>0</td>\n",
              "      <td>0</td>\n",
              "      <td>0</td>\n",
              "      <td>0</td>\n",
              "      <td>0</td>\n",
              "      <td>0</td>\n",
              "      <td>1</td>\n",
              "      <td>0</td>\n",
              "      <td>0</td>\n",
              "      <td>0</td>\n",
              "      <td>0</td>\n",
              "      <td>1</td>\n",
              "      <td>0</td>\n",
              "      <td>0</td>\n",
              "      <td>0</td>\n",
              "      <td>0</td>\n",
              "      <td>1</td>\n",
              "      <td>0</td>\n",
              "      <td>1</td>\n",
              "      <td>0</td>\n",
              "      <td>0</td>\n",
              "      <td>0</td>\n",
              "      <td>0</td>\n",
              "      <td>0</td>\n",
              "      <td>0</td>\n",
              "      <td>0</td>\n",
              "      <td>0</td>\n",
              "      <td>0</td>\n",
              "      <td>0</td>\n",
              "      <td>0</td>\n",
              "      <td>0</td>\n",
              "      <td>0</td>\n",
              "      <td>0</td>\n",
              "      <td>0</td>\n",
              "      <td>0</td>\n",
              "      <td>0</td>\n",
              "      <td>0</td>\n",
              "      <td>0</td>\n",
              "      <td>0</td>\n",
              "      <td>0</td>\n",
              "      <td>1</td>\n",
              "      <td>0</td>\n",
              "      <td>0</td>\n",
              "      <td>0</td>\n",
              "    </tr>\n",
              "    <tr>\n",
              "      <th>3</th>\n",
              "      <td>308314</td>\n",
              "      <td>196622.721</td>\n",
              "      <td>3</td>\n",
              "      <td>4</td>\n",
              "      <td>356339</td>\n",
              "      <td>15000000</td>\n",
              "      <td>15700000</td>\n",
              "      <td>7.600</td>\n",
              "      <td>130.704</td>\n",
              "      <td>94</td>\n",
              "      <td>1.667</td>\n",
              "      <td>1</td>\n",
              "      <td>0</td>\n",
              "      <td>0</td>\n",
              "      <td>0</td>\n",
              "      <td>0</td>\n",
              "      <td>0</td>\n",
              "      <td>0</td>\n",
              "      <td>0</td>\n",
              "      <td>0</td>\n",
              "      <td>1</td>\n",
              "      <td>0</td>\n",
              "      <td>0</td>\n",
              "      <td>1</td>\n",
              "      <td>0</td>\n",
              "      <td>0</td>\n",
              "      <td>1</td>\n",
              "      <td>0</td>\n",
              "      <td>0</td>\n",
              "      <td>0</td>\n",
              "      <td>0</td>\n",
              "      <td>1</td>\n",
              "      <td>1</td>\n",
              "      <td>0</td>\n",
              "      <td>0</td>\n",
              "      <td>0</td>\n",
              "      <td>0</td>\n",
              "      <td>0</td>\n",
              "      <td>0</td>\n",
              "      <td>0</td>\n",
              "      <td>1</td>\n",
              "      <td>0</td>\n",
              "      <td>0</td>\n",
              "      <td>0</td>\n",
              "      <td>1</td>\n",
              "      <td>1</td>\n",
              "      <td>0</td>\n",
              "      <td>0</td>\n",
              "      <td>0</td>\n",
              "      <td>0</td>\n",
              "      <td>0</td>\n",
              "      <td>0</td>\n",
              "      <td>1</td>\n",
              "      <td>0</td>\n",
              "      <td>0</td>\n",
              "      <td>0</td>\n",
              "      <td>0</td>\n",
              "      <td>0</td>\n",
              "    </tr>\n",
              "    <tr>\n",
              "      <th>4</th>\n",
              "      <td>307201</td>\n",
              "      <td>159841.652</td>\n",
              "      <td>1</td>\n",
              "      <td>3</td>\n",
              "      <td>46720</td>\n",
              "      <td>27220000</td>\n",
              "      <td>8551228</td>\n",
              "      <td>6.400</td>\n",
              "      <td>105.546</td>\n",
              "      <td>37</td>\n",
              "      <td>3.067</td>\n",
              "      <td>1</td>\n",
              "      <td>0</td>\n",
              "      <td>0</td>\n",
              "      <td>0</td>\n",
              "      <td>0</td>\n",
              "      <td>0</td>\n",
              "      <td>0</td>\n",
              "      <td>0</td>\n",
              "      <td>0</td>\n",
              "      <td>1</td>\n",
              "      <td>0</td>\n",
              "      <td>0</td>\n",
              "      <td>0</td>\n",
              "      <td>0</td>\n",
              "      <td>1</td>\n",
              "      <td>0</td>\n",
              "      <td>0</td>\n",
              "      <td>0</td>\n",
              "      <td>0</td>\n",
              "      <td>1</td>\n",
              "      <td>1</td>\n",
              "      <td>0</td>\n",
              "      <td>0</td>\n",
              "      <td>0</td>\n",
              "      <td>0</td>\n",
              "      <td>0</td>\n",
              "      <td>0</td>\n",
              "      <td>0</td>\n",
              "      <td>0</td>\n",
              "      <td>1</td>\n",
              "      <td>0</td>\n",
              "      <td>0</td>\n",
              "      <td>0</td>\n",
              "      <td>1</td>\n",
              "      <td>0</td>\n",
              "      <td>0</td>\n",
              "      <td>0</td>\n",
              "      <td>0</td>\n",
              "      <td>0</td>\n",
              "      <td>0</td>\n",
              "      <td>0</td>\n",
              "      <td>0</td>\n",
              "      <td>0</td>\n",
              "      <td>0</td>\n",
              "      <td>1</td>\n",
              "      <td>0</td>\n",
              "      <td>0</td>\n",
              "    </tr>\n",
              "  </tbody>\n",
              "</table>\n",
              "</div>"
            ],
            "text/plain": [
              "   video_id  cvt_per_day  ...  2013-2014  2014-2017\n",
              "0    385504   307127.606  ...          0          0\n",
              "1    300175   270338.426  ...          0          0\n",
              "2    361899   256165.867  ...          0          0\n",
              "3    308314   196622.721  ...          0          0\n",
              "4    307201   159841.652  ...          0          0\n",
              "\n",
              "[5 rows x 58 columns]"
            ]
          },
          "metadata": {
            "tags": []
          },
          "execution_count": 22
        }
      ]
    },
    {
      "cell_type": "markdown",
      "metadata": {
        "id": "le64ka0z9s1Z"
      },
      "source": [
        "# Part 2: Feature Preprocessing"
      ]
    },
    {
      "cell_type": "markdown",
      "metadata": {
        "id": "h125BxX4MxaR"
      },
      "source": [
        "## 2.1 Dealing with missing value"
      ]
    },
    {
      "cell_type": "markdown",
      "metadata": {
        "id": "k5WGMsYzNfoQ"
      },
      "source": [
        "We checked before that there is no Null value in our dataset, but for some numeric features, zero value is also missing data. For example, the budget for a movie cannot be zero. \r\n",
        "Check the ratio of zero value in numeric features"
      ]
    },
    {
      "cell_type": "code",
      "metadata": {
        "colab": {
          "base_uri": "https://localhost:8080/"
        },
        "id": "DOU5xcjqPqIR",
        "outputId": "4c62c76c-947c-4f4a-f3b2-3f88b84f08a7"
      },
      "source": [
        "newdataset[['budget','boxoffice','metacritic_score', 'star_category','imdb_votes', 'imdb_rating']] = dataset[['budget','boxoffice','metacritic_score', 'star_category','imdb_votes', 'imdb_rating']].replace(0, np.nan)\r\n",
        "print(newdataset.info())"
      ],
      "execution_count": null,
      "outputs": [
        {
          "output_type": "stream",
          "text": [
            "<class 'pandas.core.frame.DataFrame'>\n",
            "RangeIndex: 4226 entries, 0 to 4225\n",
            "Data columns (total 58 columns):\n",
            " #   Column                         Non-Null Count  Dtype  \n",
            "---  ------                         --------------  -----  \n",
            " 0   video_id                       4226 non-null   int64  \n",
            " 1   cvt_per_day                    4226 non-null   float64\n",
            " 2   weighted_categorical_position  4226 non-null   int64  \n",
            " 3   weighted_horizontal_poition    4226 non-null   int64  \n",
            " 4   imdb_votes                     3882 non-null   float64\n",
            " 5   budget                         1772 non-null   float64\n",
            " 6   boxoffice                      1032 non-null   float64\n",
            " 7   imdb_rating                    3882 non-null   float64\n",
            " 8   duration_in_mins               4226 non-null   float64\n",
            " 9   metacritic_score               1214 non-null   float64\n",
            " 10  star_category                  2380 non-null   float64\n",
            " 11  lionsgate                      4226 non-null   int64  \n",
            " 12  mgm                            4226 non-null   int64  \n",
            " 13  other                          4226 non-null   int64  \n",
            " 14  paramount                      4226 non-null   int64  \n",
            " 15  G                              4226 non-null   int64  \n",
            " 16  NC-17                          4226 non-null   int64  \n",
            " 17  NotRated                       4226 non-null   int64  \n",
            " 18  PG                             4226 non-null   int64  \n",
            " 19  PG-13                          4226 non-null   int64  \n",
            " 20  R                              4226 non-null   int64  \n",
            " 21  BAFTA                          4226 non-null   int64  \n",
            " 22  Golden Globe                   4226 non-null   int64  \n",
            " 23  Oscar                          4226 non-null   int64  \n",
            " 24  no award                       4226 non-null   int64  \n",
            " 25  other award                    4226 non-null   int64  \n",
            " 26  Action                         4226 non-null   int64  \n",
            " 27  Adventure                      4226 non-null   int64  \n",
            " 28  Animation                      4226 non-null   int64  \n",
            " 29  Comedy                         4226 non-null   int64  \n",
            " 30  Crime                          4226 non-null   int64  \n",
            " 31  Documentary                    4226 non-null   int64  \n",
            " 32  Drama                          4226 non-null   int64  \n",
            " 33  Fantasy                        4226 non-null   int64  \n",
            " 34  Foreign/International          4226 non-null   int64  \n",
            " 35  Horror                         4226 non-null   int64  \n",
            " 36  Independent                    4226 non-null   int64  \n",
            " 37  Kids & Family                  4226 non-null   int64  \n",
            " 38  Music                          4226 non-null   int64  \n",
            " 39  Musicals                       4226 non-null   int64  \n",
            " 40  Mystery                        4226 non-null   int64  \n",
            " 41  Romance                        4226 non-null   int64  \n",
            " 42  Sci-Fi                         4226 non-null   int64  \n",
            " 43  Sport                          4226 non-null   int64  \n",
            " 44  Thriller                       4226 non-null   int64  \n",
            " 45  War                            4226 non-null   int64  \n",
            " 46  Western                        4226 non-null   int64  \n",
            " 47  Misc_genres                    4226 non-null   int64  \n",
            " 48  1916-1974                      4226 non-null   int64  \n",
            " 49  1974-1991                      4226 non-null   int64  \n",
            " 50  1991-2001                      4226 non-null   int64  \n",
            " 51  2001-2006                      4226 non-null   int64  \n",
            " 52  2006-2008                      4226 non-null   int64  \n",
            " 53  2008-2010                      4226 non-null   int64  \n",
            " 54  2010-2012                      4226 non-null   int64  \n",
            " 55  2012-2013                      4226 non-null   int64  \n",
            " 56  2013-2014                      4226 non-null   int64  \n",
            " 57  2014-2017                      4226 non-null   int64  \n",
            "dtypes: float64(8), int64(50)\n",
            "memory usage: 1.9 MB\n",
            "None\n"
          ],
          "name": "stdout"
        }
      ]
    },
    {
      "cell_type": "markdown",
      "metadata": {
        "id": "p1rU1sPnQgn1"
      },
      "source": [
        "Filling the missing data with mean value"
      ]
    },
    {
      "cell_type": "code",
      "metadata": {
        "colab": {
          "base_uri": "https://localhost:8080/"
        },
        "id": "4xhMVljCQk_S",
        "outputId": "e0e5c47e-c614-4130-d890-d8d5c2113201"
      },
      "source": [
        "newdata1=newdataset.copy()\r\n",
        "newdata1['boxoffice']=newdata1['boxoffice'].fillna(newdata1['boxoffice'].mean())\r\n",
        "newdata1['metacritic_score']=newdata1['metacritic_score'].fillna(newdata1['metacritic_score'].mean())\r\n",
        "newdata1['star_category']=newdata1['star_category'].fillna(newdata1['star_category'].mean())\r\n",
        "newdata1['imdb_votes']=newdata1['imdb_votes'].fillna(newdata1['imdb_votes'].mean())\r\n",
        "newdata1['imdb_rating']=newdata1['imdb_rating'].fillna(newdata1['imdb_rating'].mean())\r\n",
        "newdata1['budget']=newdata1['budget'].fillna(newdata1['budget'].mean())\r\n",
        "print(newdata1.info())"
      ],
      "execution_count": null,
      "outputs": [
        {
          "output_type": "stream",
          "text": [
            "<class 'pandas.core.frame.DataFrame'>\n",
            "RangeIndex: 4226 entries, 0 to 4225\n",
            "Data columns (total 58 columns):\n",
            " #   Column                         Non-Null Count  Dtype  \n",
            "---  ------                         --------------  -----  \n",
            " 0   video_id                       4226 non-null   int64  \n",
            " 1   cvt_per_day                    4226 non-null   float64\n",
            " 2   weighted_categorical_position  4226 non-null   int64  \n",
            " 3   weighted_horizontal_poition    4226 non-null   int64  \n",
            " 4   imdb_votes                     4226 non-null   float64\n",
            " 5   budget                         4226 non-null   float64\n",
            " 6   boxoffice                      4226 non-null   float64\n",
            " 7   imdb_rating                    4226 non-null   float64\n",
            " 8   duration_in_mins               4226 non-null   float64\n",
            " 9   metacritic_score               4226 non-null   float64\n",
            " 10  star_category                  4226 non-null   float64\n",
            " 11  lionsgate                      4226 non-null   int64  \n",
            " 12  mgm                            4226 non-null   int64  \n",
            " 13  other                          4226 non-null   int64  \n",
            " 14  paramount                      4226 non-null   int64  \n",
            " 15  G                              4226 non-null   int64  \n",
            " 16  NC-17                          4226 non-null   int64  \n",
            " 17  NotRated                       4226 non-null   int64  \n",
            " 18  PG                             4226 non-null   int64  \n",
            " 19  PG-13                          4226 non-null   int64  \n",
            " 20  R                              4226 non-null   int64  \n",
            " 21  BAFTA                          4226 non-null   int64  \n",
            " 22  Golden Globe                   4226 non-null   int64  \n",
            " 23  Oscar                          4226 non-null   int64  \n",
            " 24  no award                       4226 non-null   int64  \n",
            " 25  other award                    4226 non-null   int64  \n",
            " 26  Action                         4226 non-null   int64  \n",
            " 27  Adventure                      4226 non-null   int64  \n",
            " 28  Animation                      4226 non-null   int64  \n",
            " 29  Comedy                         4226 non-null   int64  \n",
            " 30  Crime                          4226 non-null   int64  \n",
            " 31  Documentary                    4226 non-null   int64  \n",
            " 32  Drama                          4226 non-null   int64  \n",
            " 33  Fantasy                        4226 non-null   int64  \n",
            " 34  Foreign/International          4226 non-null   int64  \n",
            " 35  Horror                         4226 non-null   int64  \n",
            " 36  Independent                    4226 non-null   int64  \n",
            " 37  Kids & Family                  4226 non-null   int64  \n",
            " 38  Music                          4226 non-null   int64  \n",
            " 39  Musicals                       4226 non-null   int64  \n",
            " 40  Mystery                        4226 non-null   int64  \n",
            " 41  Romance                        4226 non-null   int64  \n",
            " 42  Sci-Fi                         4226 non-null   int64  \n",
            " 43  Sport                          4226 non-null   int64  \n",
            " 44  Thriller                       4226 non-null   int64  \n",
            " 45  War                            4226 non-null   int64  \n",
            " 46  Western                        4226 non-null   int64  \n",
            " 47  Misc_genres                    4226 non-null   int64  \n",
            " 48  1916-1974                      4226 non-null   int64  \n",
            " 49  1974-1991                      4226 non-null   int64  \n",
            " 50  1991-2001                      4226 non-null   int64  \n",
            " 51  2001-2006                      4226 non-null   int64  \n",
            " 52  2006-2008                      4226 non-null   int64  \n",
            " 53  2008-2010                      4226 non-null   int64  \n",
            " 54  2010-2012                      4226 non-null   int64  \n",
            " 55  2012-2013                      4226 non-null   int64  \n",
            " 56  2013-2014                      4226 non-null   int64  \n",
            " 57  2014-2017                      4226 non-null   int64  \n",
            "dtypes: float64(8), int64(50)\n",
            "memory usage: 1.9 MB\n",
            "None\n"
          ],
          "name": "stdout"
        }
      ]
    },
    {
      "cell_type": "markdown",
      "metadata": {
        "id": "8oLJg9Op7lCO"
      },
      "source": [
        "## 2.2 Feature scaling"
      ]
    },
    {
      "cell_type": "markdown",
      "metadata": {
        "id": "bkbrKJzP7xOV"
      },
      "source": [
        "### We use the standardscaler to scaling these features"
      ]
    },
    {
      "cell_type": "code",
      "metadata": {
        "id": "f48_g-vH8iKK"
      },
      "source": [
        "import sklearn.preprocessing as preprocessing\r\n"
      ],
      "execution_count": null,
      "outputs": []
    },
    {
      "cell_type": "code",
      "metadata": {
        "colab": {
          "base_uri": "https://localhost:8080/",
          "height": 241
        },
        "id": "bnBTy0vt7kv-",
        "outputId": "596fd8f7-7bcc-4a26-9e30-c4dbdfb9c6a8"
      },
      "source": [
        "#Standard scaling\r\n",
        "scale_lst = ['weighted_categorical_position', 'weighted_horizontal_poition', 'budget','boxoffice', \r\n",
        "             'imdb_votes','imdb_rating','duration_in_mins', 'metacritic_score','star_category']\r\n",
        "newdata_sc = newdata1.copy()\r\n",
        "\r\n",
        "sc_scale = preprocessing.StandardScaler().fit(newdata_sc[scale_lst])\r\n",
        "newdata_sc[scale_lst] = sc_scale.transform(newdata_sc[scale_lst])\r\n",
        "newdata_sc.head()"
      ],
      "execution_count": null,
      "outputs": [
        {
          "output_type": "execute_result",
          "data": {
            "text/html": [
              "<div>\n",
              "<style scoped>\n",
              "    .dataframe tbody tr th:only-of-type {\n",
              "        vertical-align: middle;\n",
              "    }\n",
              "\n",
              "    .dataframe tbody tr th {\n",
              "        vertical-align: top;\n",
              "    }\n",
              "\n",
              "    .dataframe thead th {\n",
              "        text-align: right;\n",
              "    }\n",
              "</style>\n",
              "<table border=\"1\" class=\"dataframe\">\n",
              "  <thead>\n",
              "    <tr style=\"text-align: right;\">\n",
              "      <th></th>\n",
              "      <th>video_id</th>\n",
              "      <th>cvt_per_day</th>\n",
              "      <th>weighted_categorical_position</th>\n",
              "      <th>weighted_horizontal_poition</th>\n",
              "      <th>imdb_votes</th>\n",
              "      <th>budget</th>\n",
              "      <th>boxoffice</th>\n",
              "      <th>imdb_rating</th>\n",
              "      <th>duration_in_mins</th>\n",
              "      <th>metacritic_score</th>\n",
              "      <th>star_category</th>\n",
              "      <th>lionsgate</th>\n",
              "      <th>mgm</th>\n",
              "      <th>other</th>\n",
              "      <th>paramount</th>\n",
              "      <th>G</th>\n",
              "      <th>NC-17</th>\n",
              "      <th>NotRated</th>\n",
              "      <th>PG</th>\n",
              "      <th>PG-13</th>\n",
              "      <th>R</th>\n",
              "      <th>BAFTA</th>\n",
              "      <th>Golden Globe</th>\n",
              "      <th>Oscar</th>\n",
              "      <th>no award</th>\n",
              "      <th>other award</th>\n",
              "      <th>Action</th>\n",
              "      <th>Adventure</th>\n",
              "      <th>Animation</th>\n",
              "      <th>Comedy</th>\n",
              "      <th>Crime</th>\n",
              "      <th>Documentary</th>\n",
              "      <th>Drama</th>\n",
              "      <th>Fantasy</th>\n",
              "      <th>Foreign/International</th>\n",
              "      <th>Horror</th>\n",
              "      <th>Independent</th>\n",
              "      <th>Kids &amp; Family</th>\n",
              "      <th>Music</th>\n",
              "      <th>Musicals</th>\n",
              "      <th>Mystery</th>\n",
              "      <th>Romance</th>\n",
              "      <th>Sci-Fi</th>\n",
              "      <th>Sport</th>\n",
              "      <th>Thriller</th>\n",
              "      <th>War</th>\n",
              "      <th>Western</th>\n",
              "      <th>Misc_genres</th>\n",
              "      <th>1916-1974</th>\n",
              "      <th>1974-1991</th>\n",
              "      <th>1991-2001</th>\n",
              "      <th>2001-2006</th>\n",
              "      <th>2006-2008</th>\n",
              "      <th>2008-2010</th>\n",
              "      <th>2010-2012</th>\n",
              "      <th>2012-2013</th>\n",
              "      <th>2013-2014</th>\n",
              "      <th>2014-2017</th>\n",
              "    </tr>\n",
              "  </thead>\n",
              "  <tbody>\n",
              "    <tr>\n",
              "      <th>0</th>\n",
              "      <td>385504</td>\n",
              "      <td>307127.606</td>\n",
              "      <td>-1.106</td>\n",
              "      <td>-2.116</td>\n",
              "      <td>1.984</td>\n",
              "      <td>1.470</td>\n",
              "      <td>4.696</td>\n",
              "      <td>0.542</td>\n",
              "      <td>1.079</td>\n",
              "      <td>-0.630</td>\n",
              "      <td>0.033</td>\n",
              "      <td>1</td>\n",
              "      <td>0</td>\n",
              "      <td>0</td>\n",
              "      <td>0</td>\n",
              "      <td>0</td>\n",
              "      <td>0</td>\n",
              "      <td>0</td>\n",
              "      <td>0</td>\n",
              "      <td>1</td>\n",
              "      <td>0</td>\n",
              "      <td>0</td>\n",
              "      <td>0</td>\n",
              "      <td>0</td>\n",
              "      <td>0</td>\n",
              "      <td>1</td>\n",
              "      <td>1</td>\n",
              "      <td>0</td>\n",
              "      <td>0</td>\n",
              "      <td>0</td>\n",
              "      <td>0</td>\n",
              "      <td>0</td>\n",
              "      <td>1</td>\n",
              "      <td>0</td>\n",
              "      <td>0</td>\n",
              "      <td>0</td>\n",
              "      <td>0</td>\n",
              "      <td>0</td>\n",
              "      <td>0</td>\n",
              "      <td>0</td>\n",
              "      <td>0</td>\n",
              "      <td>0</td>\n",
              "      <td>0</td>\n",
              "      <td>0</td>\n",
              "      <td>1</td>\n",
              "      <td>0</td>\n",
              "      <td>0</td>\n",
              "      <td>0</td>\n",
              "      <td>0</td>\n",
              "      <td>0</td>\n",
              "      <td>0</td>\n",
              "      <td>0</td>\n",
              "      <td>0</td>\n",
              "      <td>0</td>\n",
              "      <td>0</td>\n",
              "      <td>1</td>\n",
              "      <td>0</td>\n",
              "      <td>0</td>\n",
              "    </tr>\n",
              "    <tr>\n",
              "      <th>1</th>\n",
              "      <td>300175</td>\n",
              "      <td>270338.426</td>\n",
              "      <td>-1.106</td>\n",
              "      <td>-2.116</td>\n",
              "      <td>1.258</td>\n",
              "      <td>1.470</td>\n",
              "      <td>-1.022</td>\n",
              "      <td>0.542</td>\n",
              "      <td>0.257</td>\n",
              "      <td>-1.997</td>\n",
              "      <td>3.434</td>\n",
              "      <td>1</td>\n",
              "      <td>0</td>\n",
              "      <td>0</td>\n",
              "      <td>0</td>\n",
              "      <td>0</td>\n",
              "      <td>0</td>\n",
              "      <td>0</td>\n",
              "      <td>0</td>\n",
              "      <td>0</td>\n",
              "      <td>1</td>\n",
              "      <td>0</td>\n",
              "      <td>0</td>\n",
              "      <td>0</td>\n",
              "      <td>1</td>\n",
              "      <td>0</td>\n",
              "      <td>0</td>\n",
              "      <td>0</td>\n",
              "      <td>0</td>\n",
              "      <td>1</td>\n",
              "      <td>1</td>\n",
              "      <td>0</td>\n",
              "      <td>0</td>\n",
              "      <td>0</td>\n",
              "      <td>0</td>\n",
              "      <td>0</td>\n",
              "      <td>0</td>\n",
              "      <td>0</td>\n",
              "      <td>0</td>\n",
              "      <td>0</td>\n",
              "      <td>0</td>\n",
              "      <td>0</td>\n",
              "      <td>0</td>\n",
              "      <td>0</td>\n",
              "      <td>1</td>\n",
              "      <td>0</td>\n",
              "      <td>0</td>\n",
              "      <td>0</td>\n",
              "      <td>0</td>\n",
              "      <td>0</td>\n",
              "      <td>0</td>\n",
              "      <td>0</td>\n",
              "      <td>0</td>\n",
              "      <td>0</td>\n",
              "      <td>0</td>\n",
              "      <td>1</td>\n",
              "      <td>0</td>\n",
              "      <td>0</td>\n",
              "    </tr>\n",
              "    <tr>\n",
              "      <th>2</th>\n",
              "      <td>361899</td>\n",
              "      <td>256165.867</td>\n",
              "      <td>-1.106</td>\n",
              "      <td>-2.116</td>\n",
              "      <td>6.043</td>\n",
              "      <td>3.108</td>\n",
              "      <td>3.898</td>\n",
              "      <td>1.100</td>\n",
              "      <td>1.243</td>\n",
              "      <td>0.327</td>\n",
              "      <td>2.102</td>\n",
              "      <td>0</td>\n",
              "      <td>0</td>\n",
              "      <td>1</td>\n",
              "      <td>0</td>\n",
              "      <td>0</td>\n",
              "      <td>0</td>\n",
              "      <td>0</td>\n",
              "      <td>0</td>\n",
              "      <td>0</td>\n",
              "      <td>1</td>\n",
              "      <td>0</td>\n",
              "      <td>0</td>\n",
              "      <td>0</td>\n",
              "      <td>0</td>\n",
              "      <td>1</td>\n",
              "      <td>0</td>\n",
              "      <td>0</td>\n",
              "      <td>0</td>\n",
              "      <td>0</td>\n",
              "      <td>1</td>\n",
              "      <td>0</td>\n",
              "      <td>1</td>\n",
              "      <td>0</td>\n",
              "      <td>0</td>\n",
              "      <td>0</td>\n",
              "      <td>0</td>\n",
              "      <td>0</td>\n",
              "      <td>0</td>\n",
              "      <td>0</td>\n",
              "      <td>0</td>\n",
              "      <td>0</td>\n",
              "      <td>0</td>\n",
              "      <td>0</td>\n",
              "      <td>0</td>\n",
              "      <td>0</td>\n",
              "      <td>0</td>\n",
              "      <td>0</td>\n",
              "      <td>0</td>\n",
              "      <td>0</td>\n",
              "      <td>0</td>\n",
              "      <td>0</td>\n",
              "      <td>0</td>\n",
              "      <td>0</td>\n",
              "      <td>1</td>\n",
              "      <td>0</td>\n",
              "      <td>0</td>\n",
              "      <td>0</td>\n",
              "    </tr>\n",
              "    <tr>\n",
              "      <th>3</th>\n",
              "      <td>308314</td>\n",
              "      <td>196622.721</td>\n",
              "      <td>-0.780</td>\n",
              "      <td>-2.032</td>\n",
              "      <td>11.077</td>\n",
              "      <td>1.470</td>\n",
              "      <td>0.767</td>\n",
              "      <td>1.309</td>\n",
              "      <td>1.952</td>\n",
              "      <td>5.250</td>\n",
              "      <td>-0.063</td>\n",
              "      <td>1</td>\n",
              "      <td>0</td>\n",
              "      <td>0</td>\n",
              "      <td>0</td>\n",
              "      <td>0</td>\n",
              "      <td>0</td>\n",
              "      <td>0</td>\n",
              "      <td>0</td>\n",
              "      <td>0</td>\n",
              "      <td>1</td>\n",
              "      <td>0</td>\n",
              "      <td>0</td>\n",
              "      <td>1</td>\n",
              "      <td>0</td>\n",
              "      <td>0</td>\n",
              "      <td>1</td>\n",
              "      <td>0</td>\n",
              "      <td>0</td>\n",
              "      <td>0</td>\n",
              "      <td>0</td>\n",
              "      <td>1</td>\n",
              "      <td>1</td>\n",
              "      <td>0</td>\n",
              "      <td>0</td>\n",
              "      <td>0</td>\n",
              "      <td>0</td>\n",
              "      <td>0</td>\n",
              "      <td>0</td>\n",
              "      <td>0</td>\n",
              "      <td>1</td>\n",
              "      <td>0</td>\n",
              "      <td>0</td>\n",
              "      <td>0</td>\n",
              "      <td>1</td>\n",
              "      <td>1</td>\n",
              "      <td>0</td>\n",
              "      <td>0</td>\n",
              "      <td>0</td>\n",
              "      <td>0</td>\n",
              "      <td>0</td>\n",
              "      <td>0</td>\n",
              "      <td>1</td>\n",
              "      <td>0</td>\n",
              "      <td>0</td>\n",
              "      <td>0</td>\n",
              "      <td>0</td>\n",
              "      <td>0</td>\n",
              "    </tr>\n",
              "    <tr>\n",
              "      <th>4</th>\n",
              "      <td>307201</td>\n",
              "      <td>159841.652</td>\n",
              "      <td>-1.106</td>\n",
              "      <td>-2.116</td>\n",
              "      <td>1.258</td>\n",
              "      <td>3.290</td>\n",
              "      <td>-0.265</td>\n",
              "      <td>0.472</td>\n",
              "      <td>0.758</td>\n",
              "      <td>-2.544</td>\n",
              "      <td>3.029</td>\n",
              "      <td>1</td>\n",
              "      <td>0</td>\n",
              "      <td>0</td>\n",
              "      <td>0</td>\n",
              "      <td>0</td>\n",
              "      <td>0</td>\n",
              "      <td>0</td>\n",
              "      <td>0</td>\n",
              "      <td>0</td>\n",
              "      <td>1</td>\n",
              "      <td>0</td>\n",
              "      <td>0</td>\n",
              "      <td>0</td>\n",
              "      <td>0</td>\n",
              "      <td>1</td>\n",
              "      <td>0</td>\n",
              "      <td>0</td>\n",
              "      <td>0</td>\n",
              "      <td>0</td>\n",
              "      <td>1</td>\n",
              "      <td>1</td>\n",
              "      <td>0</td>\n",
              "      <td>0</td>\n",
              "      <td>0</td>\n",
              "      <td>0</td>\n",
              "      <td>0</td>\n",
              "      <td>0</td>\n",
              "      <td>0</td>\n",
              "      <td>0</td>\n",
              "      <td>1</td>\n",
              "      <td>0</td>\n",
              "      <td>0</td>\n",
              "      <td>0</td>\n",
              "      <td>1</td>\n",
              "      <td>0</td>\n",
              "      <td>0</td>\n",
              "      <td>0</td>\n",
              "      <td>0</td>\n",
              "      <td>0</td>\n",
              "      <td>0</td>\n",
              "      <td>0</td>\n",
              "      <td>0</td>\n",
              "      <td>0</td>\n",
              "      <td>0</td>\n",
              "      <td>1</td>\n",
              "      <td>0</td>\n",
              "      <td>0</td>\n",
              "    </tr>\n",
              "  </tbody>\n",
              "</table>\n",
              "</div>"
            ],
            "text/plain": [
              "   video_id  cvt_per_day  ...  2013-2014  2014-2017\n",
              "0    385504   307127.606  ...          0          0\n",
              "1    300175   270338.426  ...          0          0\n",
              "2    361899   256165.867  ...          0          0\n",
              "3    308314   196622.721  ...          0          0\n",
              "4    307201   159841.652  ...          0          0\n",
              "\n",
              "[5 rows x 58 columns]"
            ]
          },
          "metadata": {
            "tags": []
          },
          "execution_count": 26
        }
      ]
    },
    {
      "cell_type": "code",
      "metadata": {
        "id": "guNmFV9n9RtD"
      },
      "source": [
        "# MinMax scaling\r\n",
        "newdata_mm = newdata1.copy()\r\n",
        "mm_scale = preprocessing.MinMaxScaler().fit(newdata_mm[scale_lst])\r\n",
        "newdata_mm[scale_lst] = mm_scale.transform(newdata_mm[scale_lst])"
      ],
      "execution_count": null,
      "outputs": []
    },
    {
      "cell_type": "code",
      "metadata": {
        "id": "jMu9Ef-N9fhn"
      },
      "source": [
        "# Robust scaling\r\n",
        "newdata_rs = newdata1.copy()\r\n",
        "rs_scale = preprocessing.RobustScaler().fit(newdata_mm[scale_lst])\r\n",
        "newdata_rs[scale_lst] = rs_scale.transform(newdata_rs[scale_lst])"
      ],
      "execution_count": null,
      "outputs": []
    },
    {
      "cell_type": "markdown",
      "metadata": {
        "id": "K8Jev6sj9nxk"
      },
      "source": [
        "# Part 3: Model Training"
      ]
    },
    {
      "cell_type": "code",
      "metadata": {
        "id": "2zwQOK5X9nTZ"
      },
      "source": [
        "train, test = train_test_split(newdata_sc, test_size=0.15, random_state = 3)\r\n",
        "model_train_x = train.drop(['video_id', 'cvt_per_day'], axis = 1)\r\n",
        "model_test_x = test.drop(['video_id', 'cvt_per_day'], axis = 1)\r\n",
        "model_train_y = train['cvt_per_day']\r\n",
        "model_test_y = test['cvt_per_day']"
      ],
      "execution_count": null,
      "outputs": []
    },
    {
      "cell_type": "markdown",
      "metadata": {
        "id": "5PhG4hcUohPz"
      },
      "source": [
        "## 3.1 Lasso linear regression"
      ]
    },
    {
      "cell_type": "code",
      "metadata": {
        "id": "l0DH1Us2ol5U",
        "colab": {
          "base_uri": "https://localhost:8080/",
          "height": 330
        },
        "outputId": "b63352f4-370c-4b19-ab88-6fb12e16c5ae"
      },
      "source": [
        "from sklearn.model_selection import train_test_split\r\n",
        "from sklearn.linear_model import LinearRegression, Lasso, Ridge\r\n",
        "from sklearn.metrics import mean_squared_error, r2_score\r\n",
        "from math import sqrt\r\n",
        "\r\n",
        "lr_train, lr_validate = train_test_split(train, test_size=0.15, random_state = 0)\r\n",
        "\r\n",
        "lr_train_x = lr_train.drop(['video_id', 'cvt_per_day'], axis = 1)\r\n",
        "lr_validate_x = lr_validate.drop(['video_id', 'cvt_per_day'], axis = 1)\r\n",
        "lr_train_y = lr_train['cvt_per_day']\r\n",
        "lr_validate_y = lr_validate['cvt_per_day']\r\n",
        "\r\n",
        "alphas = np.logspace (-0.3, 2.5, num=150)\r\n",
        "# alphas= [0.000000001]\r\n",
        "scores = np.empty_like(alphas)\r\n",
        "opt_a = float('-inf')\r\n",
        "max_score = float('-inf')\r\n",
        "for i, a in enumerate(alphas):\r\n",
        "    lasso = Lasso()\r\n",
        "    lasso.set_params(alpha = a)\r\n",
        "    lasso.fit(lr_train_x, lr_train_y)\r\n",
        "    scores[i] = lasso.score(lr_validate_x, lr_validate_y)\r\n",
        "    if scores[i] > max_score:\r\n",
        "        max_score = scores[i]\r\n",
        "        opt_a = a\r\n",
        "        lasso_save = lasso\r\n",
        "\r\n",
        "plt.plot(alphas, scores, color='b', linestyle='dashed', marker='o',markerfacecolor='blue', markersize=6)\r\n",
        "plt.xlabel('alpha')\r\n",
        "plt.ylabel('score')\r\n",
        "plt.grid(True)\r\n",
        "plt.title('score vs. alpha')\r\n",
        "plt.show()\r\n",
        "model1_para = opt_a\r\n",
        "print ('The optimaized alpha and score of Lasso linear is: '), opt_a, max_score"
      ],
      "execution_count": null,
      "outputs": [
        {
          "output_type": "display_data",
          "data": {
            "image/png": "[encoded data removed]",
            "text/plain": [
              "<Figure size 432x288 with 1 Axes>"
            ]
          },
          "metadata": {
            "tags": [],
            "needs_background": "light"
          }
        },
        {
          "output_type": "stream",
          "text": [
            "The optimaized alpha and score of Lasso linear is: \n"
          ],
          "name": "stdout"
        },
        {
          "output_type": "execute_result",
          "data": {
            "text/plain": [
              "(None, 122.06107238906554, 0.36457853302954246)"
            ]
          },
          "metadata": {
            "tags": []
          },
          "execution_count": 30
        }
      ]
    },
    {
      "cell_type": "code",
      "metadata": {
        "colab": {
          "base_uri": "https://localhost:8080/"
        },
        "id": "mRiuLv1M5EH2",
        "outputId": "693ca6fd-f28c-43fc-a5a7-2194cf6f1e44"
      },
      "source": [
        "# combine the validate data and training data, use the optimal alpha, re-train the model\r\n",
        "lasso_f = Lasso()\r\n",
        "lasso_f.set_params(alpha = opt_a)\r\n",
        "lasso_f.fit(model_train_x, model_train_y)"
      ],
      "execution_count": null,
      "outputs": [
        {
          "output_type": "execute_result",
          "data": {
            "text/plain": [
              "Lasso(alpha=122.06107238906554, copy_X=True, fit_intercept=True, max_iter=1000,\n",
              "      normalize=False, positive=False, precompute=False, random_state=None,\n",
              "      selection='cyclic', tol=0.0001, warm_start=False)"
            ]
          },
          "metadata": {
            "tags": []
          },
          "execution_count": 31
        }
      ]
    },
    {
      "cell_type": "markdown",
      "metadata": {
        "id": "WF-e0MTA6f3b"
      },
      "source": [
        "## 3.2 Ridge linear regression"
      ]
    },
    {
      "cell_type": "code",
      "metadata": {
        "colab": {
          "base_uri": "https://localhost:8080/",
          "height": 330
        },
        "id": "C1EPNbmY6jOy",
        "outputId": "6b7bf706-6d26-47ce-b261-398d00bb2858"
      },
      "source": [
        "# Use the same training data set as Lasso (linear features)\r\n",
        "lr_train, lr_validate = train_test_split(train, test_size=0.15, random_state = 0)\r\n",
        "\r\n",
        "alphas = np.logspace (-10, 3, num=150)\r\n",
        "# alphas= [0.000000001]\r\n",
        "scores = np.empty_like(alphas)\r\n",
        "opt_a = float('-inf')\r\n",
        "max_score = float('-inf')\r\n",
        "for i, a in enumerate(alphas):\r\n",
        "    ridge = Ridge()\r\n",
        "    ridge.set_params(alpha = a)\r\n",
        "    ridge.fit(lr_train_x, lr_train_y)\r\n",
        "    scores[i] = ridge.score(lr_validate_x, lr_validate_y)\r\n",
        "    if scores[i] > max_score:\r\n",
        "        max_score = scores[i]\r\n",
        "        opt_a = a\r\n",
        "        ridge_save = ridge\r\n",
        "plt.plot(alphas, scores, color='r', linestyle='dashed', marker='o',markerfacecolor='r', markersize=6)\r\n",
        "plt.xlabel('alpha')\r\n",
        "plt.ylabel('score')\r\n",
        "plt.grid(True)\r\n",
        "plt.title('score vs. alpha')\r\n",
        "plt.show()\r\n",
        "model3_para = opt_a\r\n",
        "print ('The optimaized alpha and score of Ridge linear is: '), opt_a, max_score"
      ],
      "execution_count": null,
      "outputs": [
        {
          "output_type": "display_data",
          "data": {
            "image/png": "[encoded data removed]",
            "text/plain": [
              "<Figure size 432x288 with 1 Axes>"
            ]
          },
          "metadata": {
            "tags": [],
            "needs_background": "light"
          }
        },
        {
          "output_type": "stream",
          "text": [
            "The optimaized alpha and score of Ridge linear is: \n"
          ],
          "name": "stdout"
        },
        {
          "output_type": "execute_result",
          "data": {
            "text/plain": [
              "(None, 163.97026580002054, 0.35296043098491625)"
            ]
          },
          "metadata": {
            "tags": []
          },
          "execution_count": 32
        }
      ]
    },
    {
      "cell_type": "code",
      "metadata": {
        "colab": {
          "base_uri": "https://localhost:8080/"
        },
        "id": "g7bN9R9P6qPH",
        "outputId": "60365b64-bc40-48f2-e581-96fb2940deb0"
      },
      "source": [
        "# add the 15% validate data, use the optimal alpha, re-train the model\r\n",
        "\r\n",
        "ridge_f = Ridge()\r\n",
        "ridge_f.set_params(alpha = opt_a)\r\n",
        "ridge_f.fit(model_train_x, model_train_y)\r\n",
        "\r\n",
        "# ridge_f is the Ridge model (linear feature), to be tested with test data."
      ],
      "execution_count": null,
      "outputs": [
        {
          "output_type": "execute_result",
          "data": {
            "text/plain": [
              "Ridge(alpha=163.97026580002054, copy_X=True, fit_intercept=True, max_iter=None,\n",
              "      normalize=False, random_state=None, solver='auto', tol=0.001)"
            ]
          },
          "metadata": {
            "tags": []
          },
          "execution_count": 33
        }
      ]
    },
    {
      "cell_type": "markdown",
      "metadata": {
        "id": "9-wXyO7Z660I"
      },
      "source": [
        "## 3.3 Random Forest"
      ]
    },
    {
      "cell_type": "code",
      "metadata": {
        "colab": {
          "base_uri": "https://localhost:8080/"
        },
        "id": "jQ4ioPgQ6tjo",
        "outputId": "508b460d-9019-48c9-8002-a5dc45549b37"
      },
      "source": [
        "from sklearn.ensemble import RandomForestRegressor\r\n",
        "from sklearn.model_selection import GridSearchCV\r\n",
        "rf=RandomForestRegressor(random_state=2,max_features='sqrt',n_jobs=-1)\r\n",
        "param_grid={'n_estimators':[55,56,57,58,59,60,61,62,63,64,65],'max_depth':[15,16,17,18,19,20,21]}\r\n",
        "clf=GridSearchCV(estimator=rf,param_grid=param_grid,cv=5,refit=True,n_jobs=-1,pre_dispatch='2*n_jobs')\r\n",
        "clf.fit(model_train_x,model_train_y)"
      ],
      "execution_count": null,
      "outputs": [
        {
          "output_type": "execute_result",
          "data": {
            "text/plain": [
              "GridSearchCV(cv=5, error_score=nan,\n",
              "             estimator=RandomForestRegressor(bootstrap=True, ccp_alpha=0.0,\n",
              "                                             criterion='mse', max_depth=None,\n",
              "                                             max_features='sqrt',\n",
              "                                             max_leaf_nodes=None,\n",
              "                                             max_samples=None,\n",
              "                                             min_impurity_decrease=0.0,\n",
              "                                             min_impurity_split=None,\n",
              "                                             min_samples_leaf=1,\n",
              "                                             min_samples_split=2,\n",
              "                                             min_weight_fraction_leaf=0.0,\n",
              "                                             n_estimators=100, n_jobs=-1,\n",
              "                                             oob_score=False, random_state=2,\n",
              "                                             verbose=0, warm_start=False),\n",
              "             iid='deprecated', n_jobs=-1,\n",
              "             param_grid={'max_depth': [15, 16, 17, 18, 19, 20, 21],\n",
              "                         'n_estimators': [55, 56, 57, 58, 59, 60, 61, 62, 63,\n",
              "                                          64, 65]},\n",
              "             pre_dispatch='2*n_jobs', refit=True, return_train_score=False,\n",
              "             scoring=None, verbose=0)"
            ]
          },
          "metadata": {
            "tags": []
          },
          "execution_count": 34
        }
      ]
    },
    {
      "cell_type": "code",
      "metadata": {
        "colab": {
          "base_uri": "https://localhost:8080/",
          "height": 1000
        },
        "id": "0Gf_tr1y7gX-",
        "outputId": "f18424c3-6ca9-4159-b38e-4c4ee00f39a5"
      },
      "source": [
        "result=clf.cv_results_\r\n",
        "print(result)\r\n",
        "max_depth=[15,16,17,18,19,20,21]\r\n",
        "n_estimators=[55,56,57,58,59,60,61,62,63,64,65]\r\n",
        "scores=clf.cv_results_['mean_test_score'].reshape(len(max_depth),len(n_estimators))\r\n",
        "plt.figure(1)\r\n",
        "plt.subplot(1,1,1)\r\n",
        "for i,j in enumerate(max_depth):\r\n",
        "  plt.plot(n_estimators,scores[i],'-o',label='max_depths is: '+str(j))\r\n",
        "plt.legend(bbox_to_anchor=(1.05, 1), loc='upper left', borderaxespad=0.)\r\n",
        "plt.xlabel('n_estimators')\r\n",
        "plt.ylabel('mean_test_score')\r\n",
        "plt.show()\r\n",
        "print('the best parameter for max_depth is: '+str(clf.best_params_['max_depth']))\r\n",
        "print('the best parameter for n_estimators is: '+str(clf.best_params_['n_estimators']))"
      ],
      "execution_count": null,
      "outputs": [
        {
          "output_type": "stream",
          "text": [
            "{'mean_fit_time': array([0.41892824, 0.42544751, 0.44076185, 0.44859138, 0.42000813,\n",
            "       0.45070128, 0.420468  , 0.43282394, 0.41952829, 0.45096664,\n",
            "       0.43428502, 0.3866262 , 0.47689209, 0.4137115 , 0.44075732,\n",
            "       0.44932232, 0.42767239, 0.45055714, 0.44467072, 0.44857955,\n",
            "       0.45892801, 0.46379757, 0.42653279, 0.41669292, 0.40060291,\n",
            "       0.43878293, 0.42815886, 0.44650445, 0.46722026, 0.45824203,\n",
            "       0.51625009, 0.54737277, 0.55602269, 0.43986983, 0.41937022,\n",
            "       0.44581575, 0.44859543, 0.44833417, 0.47453094, 0.48045626,\n",
            "       0.50073352, 0.52992549, 0.54635253, 0.52862706, 0.44089594,\n",
            "       0.43743639, 0.45027075, 0.45976677, 0.45602741, 0.47060823,\n",
            "       0.52862492, 0.55147567, 0.54477882, 0.53101783, 0.53013024,\n",
            "       0.52726603, 0.44738894, 0.45819659, 0.48565407, 0.5525054 ,\n",
            "       0.52219553, 0.53457069, 0.5412477 , 0.53369203, 0.60561924,\n",
            "       0.6175271 , 0.44526434, 0.48751998, 0.48364596, 0.49708586,\n",
            "       0.49236946, 0.50807476, 0.5221096 , 0.55281792, 0.52673988,\n",
            "       0.54916449, 0.53492851]), 'std_fit_time': array([0.04913245, 0.03524257, 0.0145153 , 0.00540241, 0.0375617 ,\n",
            "       0.01924713, 0.0289187 , 0.0335424 , 0.04521379, 0.00904527,\n",
            "       0.03694814, 0.05266645, 0.05090735, 0.0415196 , 0.01000931,\n",
            "       0.01500647, 0.03482209, 0.01578604, 0.00301798, 0.00332332,\n",
            "       0.00790762, 0.00866961, 0.03729145, 0.0628459 , 0.054449  ,\n",
            "       0.0150947 , 0.03914387, 0.01271127, 0.01570933, 0.0035522 ,\n",
            "       0.04551863, 0.01074843, 0.00589831, 0.01275651, 0.03890954,\n",
            "       0.01244338, 0.00479732, 0.00695016, 0.04124975, 0.05915756,\n",
            "       0.04320015, 0.03478677, 0.01182844, 0.03724723, 0.01830943,\n",
            "       0.03893649, 0.01189297, 0.0121431 , 0.00680718, 0.04028981,\n",
            "       0.04250409, 0.00612488, 0.01527618, 0.03320301, 0.02616632,\n",
            "       0.03343019, 0.0166562 , 0.00758577, 0.04448992, 0.00869637,\n",
            "       0.03739583, 0.02917749, 0.01209724, 0.04033312, 0.04971064,\n",
            "       0.04334983, 0.00810438, 0.03071334, 0.03192593, 0.04448975,\n",
            "       0.05042325, 0.04276322, 0.03566088, 0.01533349, 0.03123036,\n",
            "       0.0274533 , 0.03781956]), 'mean_score_time': array([0.11226974, 0.10596242, 0.10836658, 0.10884743, 0.10744343,\n",
            "       0.10773273, 0.10601897, 0.10948949, 0.10870981, 0.10676141,\n",
            "       0.1070539 , 0.10761003, 0.10493212, 0.10983019, 0.10688844,\n",
            "       0.10557461, 0.10946331, 0.10667543, 0.11127391, 0.1071444 ,\n",
            "       0.11113577, 0.11103473, 0.11108341, 0.11463237, 0.11090364,\n",
            "       0.11296926, 0.10680037, 0.11111035, 0.10902958, 0.1107512 ,\n",
            "       0.10961843, 0.1126687 , 0.10999093, 0.10725708, 0.10776377,\n",
            "       0.11094542, 0.10993791, 0.11126237, 0.10673609, 0.11007118,\n",
            "       0.1074522 , 0.10619674, 0.10820003, 0.10658803, 0.11328282,\n",
            "       0.10908618, 0.11082034, 0.11205869, 0.11223288, 0.10740824,\n",
            "       0.11000443, 0.10565195, 0.10927854, 0.10614419, 0.11260109,\n",
            "       0.10406494, 0.1104075 , 0.10546865, 0.11075897, 0.10836759,\n",
            "       0.10968733, 0.10474939, 0.10993023, 0.10739536, 0.10399094,\n",
            "       0.10611234, 0.11285295, 0.10774789, 0.10871868, 0.11096425,\n",
            "       0.11072249, 0.10752063, 0.10768099, 0.10821314, 0.10980773,\n",
            "       0.10620027, 0.11072516]), 'std_score_time': array([0.00449647, 0.00225724, 0.00491731, 0.00491923, 0.003249  ,\n",
            "       0.00427949, 0.00365217, 0.00345543, 0.00271326, 0.00269297,\n",
            "       0.0030927 , 0.00294468, 0.00181859, 0.00324799, 0.00242825,\n",
            "       0.00132558, 0.00439808, 0.00221892, 0.00281975, 0.00342451,\n",
            "       0.00154599, 0.00345694, 0.00336411, 0.00278798, 0.00428799,\n",
            "       0.00223217, 0.00217311, 0.00387366, 0.00296824, 0.00671309,\n",
            "       0.00453871, 0.00672958, 0.00518402, 0.00264066, 0.00295291,\n",
            "       0.00311687, 0.0029951 , 0.00581006, 0.00217954, 0.00385271,\n",
            "       0.00164458, 0.00275748, 0.00210023, 0.00400706, 0.00280009,\n",
            "       0.00403662, 0.00366144, 0.00686863, 0.00551533, 0.00202781,\n",
            "       0.00550322, 0.00125285, 0.00534209, 0.00391905, 0.00666119,\n",
            "       0.00030962, 0.0034891 , 0.00124658, 0.00404113, 0.00252988,\n",
            "       0.00582112, 0.00089023, 0.00769323, 0.00311632, 0.00023291,\n",
            "       0.00399809, 0.00344252, 0.00271861, 0.00387983, 0.00189825,\n",
            "       0.0038838 , 0.00380524, 0.00516428, 0.00401465, 0.0057941 ,\n",
            "       0.00274717, 0.0048888 ]), 'param_max_depth': masked_array(data=[15, 15, 15, 15, 15, 15, 15, 15, 15, 15, 15, 16, 16, 16,\n",
            "                   16, 16, 16, 16, 16, 16, 16, 16, 17, 17, 17, 17, 17, 17,\n",
            "                   17, 17, 17, 17, 17, 18, 18, 18, 18, 18, 18, 18, 18, 18,\n",
            "                   18, 18, 19, 19, 19, 19, 19, 19, 19, 19, 19, 19, 19, 20,\n",
            "                   20, 20, 20, 20, 20, 20, 20, 20, 20, 20, 21, 21, 21, 21,\n",
            "                   21, 21, 21, 21, 21, 21, 21],\n",
            "             mask=[False, False, False, False, False, False, False, False,\n",
            "                   False, False, False, False, False, False, False, False,\n",
            "                   False, False, False, False, False, False, False, False,\n",
            "                   False, False, False, False, False, False, False, False,\n",
            "                   False, False, False, False, False, False, False, False,\n",
            "                   False, False, False, False, False, False, False, False,\n",
            "                   False, False, False, False, False, False, False, False,\n",
            "                   False, False, False, False, False, False, False, False,\n",
            "                   False, False, False, False, False, False, False, False,\n",
            "                   False, False, False, False, False],\n",
            "       fill_value='?',\n",
            "            dtype=object), 'param_n_estimators': masked_array(data=[55, 56, 57, 58, 59, 60, 61, 62, 63, 64, 65, 55, 56, 57,\n",
            "                   58, 59, 60, 61, 62, 63, 64, 65, 55, 56, 57, 58, 59, 60,\n",
            "                   61, 62, 63, 64, 65, 55, 56, 57, 58, 59, 60, 61, 62, 63,\n",
            "                   64, 65, 55, 56, 57, 58, 59, 60, 61, 62, 63, 64, 65, 55,\n",
            "                   56, 57, 58, 59, 60, 61, 62, 63, 64, 65, 55, 56, 57, 58,\n",
            "                   59, 60, 61, 62, 63, 64, 65],\n",
            "             mask=[False, False, False, False, False, False, False, False,\n",
            "                   False, False, False, False, False, False, False, False,\n",
            "                   False, False, False, False, False, False, False, False,\n",
            "                   False, False, False, False, False, False, False, False,\n",
            "                   False, False, False, False, False, False, False, False,\n",
            "                   False, False, False, False, False, False, False, False,\n",
            "                   False, False, False, False, False, False, False, False,\n",
            "                   False, False, False, False, False, False, False, False,\n",
            "                   False, False, False, False, False, False, False, False,\n",
            "                   False, False, False, False, False],\n",
            "       fill_value='?',\n",
            "            dtype=object), 'params': [{'max_depth': 15, 'n_estimators': 55}, {'max_depth': 15, 'n_estimators': 56}, {'max_depth': 15, 'n_estimators': 57}, {'max_depth': 15, 'n_estimators': 58}, {'max_depth': 15, 'n_estimators': 59}, {'max_depth': 15, 'n_estimators': 60}, {'max_depth': 15, 'n_estimators': 61}, {'max_depth': 15, 'n_estimators': 62}, {'max_depth': 15, 'n_estimators': 63}, {'max_depth': 15, 'n_estimators': 64}, {'max_depth': 15, 'n_estimators': 65}, {'max_depth': 16, 'n_estimators': 55}, {'max_depth': 16, 'n_estimators': 56}, {'max_depth': 16, 'n_estimators': 57}, {'max_depth': 16, 'n_estimators': 58}, {'max_depth': 16, 'n_estimators': 59}, {'max_depth': 16, 'n_estimators': 60}, {'max_depth': 16, 'n_estimators': 61}, {'max_depth': 16, 'n_estimators': 62}, {'max_depth': 16, 'n_estimators': 63}, {'max_depth': 16, 'n_estimators': 64}, {'max_depth': 16, 'n_estimators': 65}, {'max_depth': 17, 'n_estimators': 55}, {'max_depth': 17, 'n_estimators': 56}, {'max_depth': 17, 'n_estimators': 57}, {'max_depth': 17, 'n_estimators': 58}, {'max_depth': 17, 'n_estimators': 59}, {'max_depth': 17, 'n_estimators': 60}, {'max_depth': 17, 'n_estimators': 61}, {'max_depth': 17, 'n_estimators': 62}, {'max_depth': 17, 'n_estimators': 63}, {'max_depth': 17, 'n_estimators': 64}, {'max_depth': 17, 'n_estimators': 65}, {'max_depth': 18, 'n_estimators': 55}, {'max_depth': 18, 'n_estimators': 56}, {'max_depth': 18, 'n_estimators': 57}, {'max_depth': 18, 'n_estimators': 58}, {'max_depth': 18, 'n_estimators': 59}, {'max_depth': 18, 'n_estimators': 60}, {'max_depth': 18, 'n_estimators': 61}, {'max_depth': 18, 'n_estimators': 62}, {'max_depth': 18, 'n_estimators': 63}, {'max_depth': 18, 'n_estimators': 64}, {'max_depth': 18, 'n_estimators': 65}, {'max_depth': 19, 'n_estimators': 55}, {'max_depth': 19, 'n_estimators': 56}, {'max_depth': 19, 'n_estimators': 57}, {'max_depth': 19, 'n_estimators': 58}, {'max_depth': 19, 'n_estimators': 59}, {'max_depth': 19, 'n_estimators': 60}, {'max_depth': 19, 'n_estimators': 61}, {'max_depth': 19, 'n_estimators': 62}, {'max_depth': 19, 'n_estimators': 63}, {'max_depth': 19, 'n_estimators': 64}, {'max_depth': 19, 'n_estimators': 65}, {'max_depth': 20, 'n_estimators': 55}, {'max_depth': 20, 'n_estimators': 56}, {'max_depth': 20, 'n_estimators': 57}, {'max_depth': 20, 'n_estimators': 58}, {'max_depth': 20, 'n_estimators': 59}, {'max_depth': 20, 'n_estimators': 60}, {'max_depth': 20, 'n_estimators': 61}, {'max_depth': 20, 'n_estimators': 62}, {'max_depth': 20, 'n_estimators': 63}, {'max_depth': 20, 'n_estimators': 64}, {'max_depth': 20, 'n_estimators': 65}, {'max_depth': 21, 'n_estimators': 55}, {'max_depth': 21, 'n_estimators': 56}, {'max_depth': 21, 'n_estimators': 57}, {'max_depth': 21, 'n_estimators': 58}, {'max_depth': 21, 'n_estimators': 59}, {'max_depth': 21, 'n_estimators': 60}, {'max_depth': 21, 'n_estimators': 61}, {'max_depth': 21, 'n_estimators': 62}, {'max_depth': 21, 'n_estimators': 63}, {'max_depth': 21, 'n_estimators': 64}, {'max_depth': 21, 'n_estimators': 65}], 'split0_test_score': array([0.38603551, 0.38686771, 0.3865352 , 0.38523129, 0.38439345,\n",
            "       0.38454928, 0.38639783, 0.3851586 , 0.38585601, 0.38466918,\n",
            "       0.38255983, 0.4248057 , 0.42141191, 0.42343156, 0.42245713,\n",
            "       0.42631456, 0.42629559, 0.42564528, 0.42734908, 0.42237156,\n",
            "       0.42763721, 0.42669656, 0.37951393, 0.38296372, 0.38639826,\n",
            "       0.38634764, 0.3795929 , 0.37490227, 0.37744393, 0.37754006,\n",
            "       0.37772058, 0.38108928, 0.38158657, 0.39501558, 0.39773831,\n",
            "       0.39925332, 0.398672  , 0.39996505, 0.40375871, 0.39916584,\n",
            "       0.40260835, 0.40058591, 0.40726233, 0.40947165, 0.43649377,\n",
            "       0.43103148, 0.43370988, 0.43185711, 0.42491458, 0.42061327,\n",
            "       0.42328063, 0.42671448, 0.4289938 , 0.43316898, 0.43026418,\n",
            "       0.45699886, 0.45240741, 0.45351922, 0.44820397, 0.44749199,\n",
            "       0.44605314, 0.44818288, 0.45022642, 0.45161575, 0.45585527,\n",
            "       0.45219697, 0.44755163, 0.4469005 , 0.44804404, 0.44580387,\n",
            "       0.43868927, 0.43741886, 0.44007437, 0.43665706, 0.43430271,\n",
            "       0.43665771, 0.43271574]), 'split1_test_score': array([0.55134499, 0.549914  , 0.54245103, 0.55058286, 0.54953228,\n",
            "       0.54938704, 0.55148352, 0.55475378, 0.55665784, 0.56163086,\n",
            "       0.56360611, 0.538439  , 0.53937798, 0.53776695, 0.54864488,\n",
            "       0.54921406, 0.54868344, 0.55114163, 0.55425108, 0.55181478,\n",
            "       0.5497224 , 0.55080616, 0.54482287, 0.54269662, 0.54339096,\n",
            "       0.55365282, 0.55444052, 0.55310313, 0.55469997, 0.55854057,\n",
            "       0.5593533 , 0.55968501, 0.55835544, 0.5549545 , 0.55123366,\n",
            "       0.55279937, 0.56169852, 0.57018772, 0.56987822, 0.57189854,\n",
            "       0.57440276, 0.57766927, 0.57427264, 0.57722014, 0.56393451,\n",
            "       0.56612251, 0.56523666, 0.57376425, 0.57321397, 0.57361837,\n",
            "       0.57546086, 0.57507138, 0.57572288, 0.56878032, 0.57089849,\n",
            "       0.52274999, 0.52125788, 0.5193314 , 0.52694867, 0.52291088,\n",
            "       0.52339385, 0.52739751, 0.53095649, 0.53578834, 0.53602186,\n",
            "       0.53703467, 0.56476766, 0.56449942, 0.56391834, 0.57263436,\n",
            "       0.57216734, 0.57291417, 0.57435007, 0.57716944, 0.57773245,\n",
            "       0.58191352, 0.58458904]), 'split2_test_score': array([0.37811973, 0.37799359, 0.38269108, 0.38390383, 0.3840552 ,\n",
            "       0.38379745, 0.38086453, 0.37615182, 0.37552166, 0.37928078,\n",
            "       0.38211584, 0.3864569 , 0.38919652, 0.39215175, 0.39132171,\n",
            "       0.39180645, 0.39520743, 0.39379291, 0.39156093, 0.38971492,\n",
            "       0.38830454, 0.39100271, 0.41156992, 0.40961197, 0.41176868,\n",
            "       0.40884156, 0.4110655 , 0.40867982, 0.4079356 , 0.40552173,\n",
            "       0.40330957, 0.40289434, 0.40189547, 0.4022263 , 0.40255445,\n",
            "       0.40479287, 0.40701146, 0.40343179, 0.40294506, 0.40244545,\n",
            "       0.39970034, 0.4011217 , 0.40939548, 0.40894877, 0.41191531,\n",
            "       0.40973044, 0.4120467 , 0.41198358, 0.41350386, 0.41020923,\n",
            "       0.40767256, 0.40414377, 0.40089132, 0.40184477, 0.40605608,\n",
            "       0.3870728 , 0.38526727, 0.38780279, 0.38702892, 0.38593579,\n",
            "       0.38321642, 0.38159596, 0.37924197, 0.37737827, 0.37776331,\n",
            "       0.37765953, 0.41013787, 0.40903059, 0.41159607, 0.4075245 ,\n",
            "       0.40765215, 0.40428338, 0.40354992, 0.40065284, 0.39560326,\n",
            "       0.3941889 , 0.39379994]), 'split3_test_score': array([0.61793144, 0.61901674, 0.6220966 , 0.62164288, 0.61907615,\n",
            "       0.6173648 , 0.61693727, 0.61842737, 0.61768852, 0.618018  ,\n",
            "       0.62101193, 0.61541345, 0.61923674, 0.61929056, 0.62087578,\n",
            "       0.62338625, 0.62430385, 0.62412934, 0.62499678, 0.61945769,\n",
            "       0.61959322, 0.62121814, 0.65149964, 0.65268154, 0.65192651,\n",
            "       0.65176804, 0.6542309 , 0.6491835 , 0.64567702, 0.64687631,\n",
            "       0.64461213, 0.64691264, 0.64345876, 0.62133421, 0.62134689,\n",
            "       0.62519738, 0.62742   , 0.62649292, 0.62606338, 0.62440918,\n",
            "       0.62453897, 0.62188922, 0.62427196, 0.62674986, 0.62431284,\n",
            "       0.62840524, 0.6328694 , 0.63308947, 0.63531552, 0.63773016,\n",
            "       0.63410602, 0.63415655, 0.63244987, 0.63253957, 0.63046493,\n",
            "       0.62884546, 0.62749897, 0.62875412, 0.63079797, 0.63561368,\n",
            "       0.63707024, 0.63517241, 0.640101  , 0.63985515, 0.64159739,\n",
            "       0.64080885, 0.63000216, 0.62825994, 0.63307741, 0.63301443,\n",
            "       0.63507342, 0.63602811, 0.63421124, 0.63687095, 0.63311496,\n",
            "       0.63958588, 0.63787437]), 'split4_test_score': array([0.25951172, 0.25209597, 0.24814691, 0.23969203, 0.23767532,\n",
            "       0.23825758, 0.24251123, 0.23168885, 0.23377863, 0.23914297,\n",
            "       0.23768303, 0.26018077, 0.26782496, 0.26467395, 0.26250411,\n",
            "       0.26255011, 0.2624527 , 0.26546794, 0.25615551, 0.25983414,\n",
            "       0.26668315, 0.26409533, 0.25654188, 0.25294703, 0.24834368,\n",
            "       0.24471942, 0.24687046, 0.24965894, 0.25344081, 0.24526363,\n",
            "       0.23890052, 0.24020326, 0.24358264, 0.25151181, 0.24997285,\n",
            "       0.24786252, 0.23903766, 0.24669694, 0.25015148, 0.25319596,\n",
            "       0.24213771, 0.24293342, 0.25220813, 0.25345336, 0.30761232,\n",
            "       0.30830419, 0.30128004, 0.29893135, 0.29779535, 0.29142724,\n",
            "       0.29636255, 0.28544717, 0.28683374, 0.28816085, 0.28825917,\n",
            "       0.27974598, 0.28335797, 0.27975373, 0.27770582, 0.27287116,\n",
            "       0.27492382, 0.27729888, 0.26937605, 0.27237265, 0.27870047,\n",
            "       0.27876634, 0.26799461, 0.26734686, 0.26271838, 0.26203761,\n",
            "       0.26023202, 0.25891365, 0.26146724, 0.2553562 , 0.24805335,\n",
            "       0.25578934, 0.25918558]), 'mean_test_score': array([0.43858868, 0.4371776 , 0.43638417, 0.43621058, 0.43494648,\n",
            "       0.43467123, 0.43563888, 0.43323609, 0.43390053, 0.43654836,\n",
            "       0.43739535, 0.44505917, 0.44740962, 0.44746295, 0.44916072,\n",
            "       0.45065429, 0.4513886 , 0.45203542, 0.45086267, 0.44863862,\n",
            "       0.4503881 , 0.45076378, 0.44878965, 0.44818018, 0.44836562,\n",
            "       0.4490659 , 0.44924006, 0.44710553, 0.44783947, 0.44674846,\n",
            "       0.44477922, 0.44615691, 0.44577578, 0.44500848, 0.44456923,\n",
            "       0.44598109, 0.44676793, 0.44935488, 0.45055937, 0.45022299,\n",
            "       0.44867762, 0.4488399 , 0.45348211, 0.45516876, 0.46885375,\n",
            "       0.46871877, 0.46902853, 0.46992515, 0.46894865, 0.46671965,\n",
            "       0.46737652, 0.46510667, 0.46497832, 0.4648989 , 0.46518857,\n",
            "       0.45508262, 0.4539579 , 0.45383225, 0.45413707, 0.4529647 ,\n",
            "       0.45293149, 0.45392953, 0.45398038, 0.45540203, 0.45798766,\n",
            "       0.45729327, 0.46409078, 0.46320746, 0.46387085, 0.46420295,\n",
            "       0.46276284, 0.46191163, 0.46273057, 0.4613413 , 0.45776135,\n",
            "       0.46162707, 0.46163294]), 'std_test_score': array([0.12912374, 0.13119757, 0.13156019, 0.13521877, 0.13497784,\n",
            "       0.13432448, 0.13342585, 0.13802442, 0.1375591 , 0.13676021,\n",
            "       0.13826928, 0.12309738, 0.12189999, 0.12225236, 0.12512576,\n",
            "       0.12568933, 0.12557765, 0.12516742, 0.12883502, 0.12620108,\n",
            "       0.12378785, 0.1249471 , 0.13671676, 0.13755787, 0.1383148 ,\n",
            "       0.1409508 , 0.14166853, 0.13981845, 0.13776615, 0.14116247,\n",
            "       0.14259246, 0.14262808, 0.14048526, 0.13034528, 0.12996444,\n",
            "       0.13165071, 0.13630104, 0.13534917, 0.13390996, 0.13330787,\n",
            "       0.13705029, 0.13678159, 0.13292903, 0.13360406, 0.11269058,\n",
            "       0.11456007, 0.11724652, 0.11954115, 0.12071103, 0.12386976,\n",
            "       0.12184887, 0.12501046, 0.1244577 , 0.12256728, 0.12207476,\n",
            "       0.11844352, 0.11702216, 0.11794161, 0.12014765, 0.12264553,\n",
            "       0.12285459, 0.12223754, 0.12668456, 0.12655964, 0.12520883,\n",
            "       0.12512077, 0.12593696, 0.1257496 , 0.12812948, 0.13013569,\n",
            "       0.13137407, 0.1324894 , 0.13144361, 0.13486963, 0.13677232,\n",
            "       0.13687857, 0.13608946]), 'rank_test_score': array([67, 69, 71, 72, 74, 75, 73, 77, 76, 70, 68, 63, 56, 55, 46, 40, 37,\n",
            "       36, 38, 51, 42, 39, 49, 53, 52, 47, 45, 57, 54, 59, 65, 60, 62, 64,\n",
            "       66, 61, 58, 44, 41, 43, 50, 48, 33, 26,  4,  5,  2,  1,  3,  7,  6,\n",
            "        9, 10, 11,  8, 27, 30, 32, 28, 34, 35, 31, 29, 25, 22, 24, 13, 15,\n",
            "       14, 12, 16, 18, 17, 21, 23, 20, 19], dtype=int32)}\n"
          ],
          "name": "stdout"
        },
        {
          "output_type": "display_data",
          "data": {
            "image/png": "[encoded data removed]",
            "text/plain": [
              "<Figure size 432x288 with 1 Axes>"
            ]
          },
          "metadata": {
            "tags": [],
            "needs_background": "light"
          }
        },
        {
          "output_type": "stream",
          "text": [
            "the best parameter for max_depth is: 19\n",
            "the best parameter for n_estimators is: 58\n"
          ],
          "name": "stdout"
        }
      ]
    },
    {
      "cell_type": "markdown",
      "metadata": {
        "id": "UFIIciBB7nbg"
      },
      "source": [
        "# Part 4: Model Evaluation"
      ]
    },
    {
      "cell_type": "markdown",
      "metadata": {
        "id": "miCNigWz7peN"
      },
      "source": [
        "## 4.1: Evaluate all models"
      ]
    },
    {
      "cell_type": "code",
      "metadata": {
        "id": "HTQfzkxH7sjY"
      },
      "source": [
        "train_x = model_train_x\r\n",
        "train_y = model_train_y\r\n",
        "test_x = model_test_x\r\n",
        "test_y = model_test_y"
      ],
      "execution_count": null,
      "outputs": []
    },
    {
      "cell_type": "code",
      "metadata": {
        "colab": {
          "base_uri": "https://localhost:8080/"
        },
        "id": "pSauvc7F7uV9",
        "outputId": "74d2a6af-d2a9-4aaa-d69e-7280e6c71b63"
      },
      "source": [
        "#For lasso\r\n",
        "from sklearn.linear_model import Lasso\r\n",
        "from sklearn.metrics import  mean_squared_error\r\n",
        "lasso=Lasso(alpha=model1_para)\r\n",
        "lasso.fit(train_x,train_y)\r\n",
        "pred_y=lasso.predict(test_x)\r\n",
        "lasso_score=lasso.score(test_x,test_y)\r\n",
        "MSE_lasso=mean_squared_error(test_y,pred_y)\r\n",
        "RMSE_lasso=np.sqrt(MSE_lasso)\r\n",
        "print ('lasso score: ', lasso_score)\r\n",
        "print ('Mean square error of lasso: ', MSE_lasso)\r\n",
        "print ('Root mean squared error of lasso:', RMSE_lasso)"
      ],
      "execution_count": null,
      "outputs": [
        {
          "output_type": "stream",
          "text": [
            "lasso score:  0.09954927178753703\n",
            "Mean square error of lasso:  238953191.99910036\n",
            "Root mean squared error of lasso: 15458.110880670392\n"
          ],
          "name": "stdout"
        }
      ]
    },
    {
      "cell_type": "code",
      "metadata": {
        "colab": {
          "base_uri": "https://localhost:8080/"
        },
        "id": "gdKsd_af7yHk",
        "outputId": "afba351a-0f31-43b8-8cee-e50e00deed08"
      },
      "source": [
        "#For ridge\r\n",
        "from sklearn.metrics import  mean_squared_error\r\n",
        "ridge=Ridge(alpha=model3_para)\r\n",
        "ridge.fit(train_x,train_y)\r\n",
        "pred_y=ridge.predict(test_x)\r\n",
        "ridge_score=ridge.score(test_x,test_y)\r\n",
        "MSE_ridge=mean_squared_error(test_y,pred_y)\r\n",
        "RMSE_ridge=np.sqrt(MSE_ridge)\r\n",
        "print ('ridge score: ', ridge_score)\r\n",
        "print ('Mean square error of ridge: ', MSE_ridge)\r\n",
        "print ('Root mean squared error of ridge:', RMSE_ridge)"
      ],
      "execution_count": null,
      "outputs": [
        {
          "output_type": "stream",
          "text": [
            "ridge score:  0.11371374943726809\n",
            "Mean square error of ridge:  235194355.4060952\n",
            "Root mean squared error of ridge: 15336.047580980414\n"
          ],
          "name": "stdout"
        }
      ]
    },
    {
      "cell_type": "code",
      "metadata": {
        "colab": {
          "base_uri": "https://localhost:8080/"
        },
        "id": "0ktbccYb7060",
        "outputId": "6c2d321e-eb6a-447b-eafd-7c77690b20c4"
      },
      "source": [
        "#For randomforest regression\r\n",
        "from sklearn.ensemble import RandomForestRegressor\r\n",
        "rf=RandomForestRegressor(n_estimators=clf.best_params_['n_estimators'],max_depth=clf.best_params_['max_depth'],max_features='sqrt',random_state=2,n_jobs=-1)\r\n",
        "rf.fit(train_x,train_y)\r\n",
        "pred_y=rf.predict(test_x)\r\n",
        "rf_score=rf.score(test_x,test_y)\r\n",
        "MSE_rf=mean_squared_error(test_y,pred_y)\r\n",
        "RMSE_rf=np.sqrt(MSE_rf)\r\n",
        "print ('rf score: ', rf_score)\r\n",
        "print ('Mean square error of rf: ', MSE_rf)\r\n",
        "print ('Root mean squared error of rf:', RMSE_rf)"
      ],
      "execution_count": null,
      "outputs": [
        {
          "output_type": "stream",
          "text": [
            "rf score:  0.5139461304918905\n",
            "Mean square error of rf:  128984429.64563024\n",
            "Root mean squared error of rf: 11357.131224285042\n"
          ],
          "name": "stdout"
        }
      ]
    },
    {
      "cell_type": "markdown",
      "metadata": {
        "id": "Z2Uq9aqr75JC"
      },
      "source": [
        "# 4.2 Model comparison"
      ]
    },
    {
      "cell_type": "code",
      "metadata": {
        "colab": {
          "base_uri": "https://localhost:8080/",
          "height": 832
        },
        "id": "7tcXNRkp73-B",
        "outputId": "3c1d108b-878f-4b19-f3c9-661b0e2a42da"
      },
      "source": [
        "lst_score = [lasso_score, ridge_score, rf_score]\r\n",
        "MSE_lst =  [MSE_lasso, MSE_ridge, MSE_rf]\r\n",
        "RMSE_lst =  [RMSE_lasso, RMSE_ridge, RMSE_rf]\r\n",
        "model_lst = ['Lasso_linear', 'Ridge linear', 'Random forest']\r\n",
        "\r\n",
        "plt.figure(1)\r\n",
        "plt.plot(model_lst, lst_score, 'ro')\r\n",
        "plt.legend(['r-squre / score'])\r\n",
        "plt.xlabel('model names',fontsize =16)\r\n",
        "plt.ylabel('score / r square', fontsize =16)\r\n",
        "plt.grid(True)\r\n",
        "plt.show()\r\n",
        "\r\n",
        "plt.figure(2)\r\n",
        "plt.plot(model_lst, MSE_lst, 'g^')\r\n",
        "plt.legend(['mean square error (MSE)'])\r\n",
        "plt.xlabel('model names', fontsize =16)\r\n",
        "plt.ylabel('mean square error', fontsize =16)\r\n",
        "plt.grid(True)\r\n",
        "plt.show()\r\n",
        "\r\n",
        "plt.figure(3)\r\n",
        "plt.plot(model_lst, RMSE_lst, 'bs')\r\n",
        "plt.legend(['root mean square error (RMSE)'])\r\n",
        "plt.xlabel('model names', fontsize =16)\r\n",
        "plt.ylabel('root mean square error', fontsize =16)\r\n",
        "plt.grid(True)\r\n",
        "plt.show()"
      ],
      "execution_count": null,
      "outputs": [
        {
          "output_type": "display_data",
          "data": {
            "image/png": "[encoded data removed]",
            "text/plain": [
              "<Figure size 432x288 with 1 Axes>"
            ]
          },
          "metadata": {
            "tags": [],
            "needs_background": "light"
          }
        },
        {
          "output_type": "display_data",
          "data": {
            "image/png": "[encoded data removed]",
            "text/plain": [
              "<Figure size 432x288 with 1 Axes>"
            ]
          },
          "metadata": {
            "tags": [],
            "needs_background": "light"
          }
        },
        {
          "output_type": "display_data",
          "data": {
            "image/png": "[encoded data removed]",
            "text/plain": [
              "<Figure size 432x288 with 1 Axes>"
            ]
          },
          "metadata": {
            "tags": [],
            "needs_background": "light"
          }
        }
      ]
    },
    {
      "cell_type": "markdown",
      "metadata": {
        "id": "lu1EKJOH8Nnd"
      },
      "source": [
        "## 4.3 Feature importance"
      ]
    },
    {
      "cell_type": "markdown",
      "metadata": {
        "id": "saJkbL0I8Rys"
      },
      "source": [
        "According to MSE,RMSE and R square, the Random Forest Regression has the best performance"
      ]
    },
    {
      "cell_type": "code",
      "metadata": {
        "colab": {
          "base_uri": "https://localhost:8080/",
          "height": 407
        },
        "id": "Flzev06X8QAc",
        "outputId": "aad527e8-bb1f-4aff-e0e3-4f7bc903728a"
      },
      "source": [
        "importances = rf.feature_importances_\r\n",
        "feature_name = train_x.columns.values\r\n",
        "indices = np.argsort(importances)[::-1]\r\n",
        "plt.figure(1)\r\n",
        "plt.bar(feature_name[indices[:20]], importances[indices[:20]])\r\n",
        "plt.xticks(rotation=90)\r\n",
        "plt.show()"
      ],
      "execution_count": null,
      "outputs": [
        {
          "output_type": "display_data",
          "data": {
            "image/png": "[encoded data removed]",
            "text/plain": [
              "<Figure size 432x288 with 1 Axes>"
            ]
          },
          "metadata": {
            "tags": [],
            "needs_background": "light"
          }
        }
      ]
    }
  ]
}